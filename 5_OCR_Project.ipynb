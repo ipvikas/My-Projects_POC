{
  "nbformat": 4,
  "nbformat_minor": 0,
  "metadata": {
    "colab": {
      "private_outputs": true,
      "provenance": [],
      "authorship_tag": "ABX9TyOFkd1MM1iIKIf0p8f8ED3e"
    },
    "kernelspec": {
      "name": "python3",
      "display_name": "Python 3"
    },
    "language_info": {
      "name": "python"
    },
    "accelerator": "GPU"
  },
  "cells": [
    {
      "cell_type": "markdown",
      "metadata": {
        "id": "arhHMaTBQyRQ"
      },
      "source": [
        "# Image to Text to Audio file"
      ]
    },
    {
      "cell_type": "code",
      "metadata": {
        "id": "4oLS3rolUdwO"
      },
      "source": [
        "# !pip uninstall googletrans\n",
        "# !pip install googletrans==3.1.0a0"
      ],
      "execution_count": null,
      "outputs": []
    },
    {
      "cell_type": "code",
      "metadata": {
        "id": "HItokYTiyuiR"
      },
      "source": [
        "from google.colab import drive\n",
        "drive.mount('/content/drive')\n",
        "\n",
        "path = '/content/drive/My Drive/Colab Notebooks/POC_Projects/Parag_Letter.jfif'\n",
        "\n",
        "open(path,mode ='r')\n",
        "\n",
        "import PIL\n",
        "from PIL import ImageDraw\n",
        "im = PIL.Image.open(path)\n",
        "im"
      ],
      "execution_count": null,
      "outputs": []
    },
    {
      "cell_type": "code",
      "metadata": {
        "id": "-ANxrFDByuk9"
      },
      "source": [
        "!pip install easyocr\n",
        "#change run type to GPU\n",
        "!pip install googletrans\n",
        "from googletrans import Translator\n",
        "\n",
        "import easyocr\n",
        "reader = easyocr.Reader(['en']) #IMP 'hi'\n",
        "translator = Translator()\n",
        "bounds = reader.readtext(path,add_margin = 0.1,width_ths=0.5, link_threshold=0.4,decoder='beamsearch', blocklist='=-' )\n",
        "bounds\n",
        "\n",
        "def draw_boxes(image,bounds,color= 'yellow',width =2):\n",
        "  draw = ImageDraw.Draw(image)\n",
        "  for bound in bounds:\n",
        "    p0,p1,p2,p3=bound[0]\n",
        "    draw.line([*p0,*p1,*p2,*p3,*p0], fill = color, width = width)\n",
        "  return image\n",
        "\n",
        "draw_boxes(im, bounds)"
      ],
      "execution_count": null,
      "outputs": []
    },
    {
      "cell_type": "code",
      "metadata": {
        "id": "I2XYPNugyuny"
      },
      "source": [
        "text_list = reader.readtext(path,add_margin = 0.55,width_ths=0.7, link_threshold=0.8,decoder='beamsearch', blocklist='=-',detail = 0 )\n",
        "# print(text_list)\n",
        "\n",
        "text_comb =' '.join(text_list) #changed into a single line\n",
        "# print(text_comb)\n",
        "text_comb"
      ],
      "execution_count": null,
      "outputs": []
    },
    {
      "cell_type": "code",
      "metadata": {
        "id": "M4qNDVgMTiTE"
      },
      "source": [
        "%cd '/content/drive/My Drive/Colab Notebooks/POC_Projects'\n",
        "fhand = open('OCR_Output.txt','w')\n",
        "fhand.write(text_comb) # Erass all, already writtena and write what has been passed\n",
        "fhand.close()"
      ],
      "execution_count": null,
      "outputs": []
    },
    {
      "cell_type": "code",
      "source": [],
      "metadata": {
        "id": "EqNziB_j4TJk"
      },
      "execution_count": null,
      "outputs": []
    },
    {
      "cell_type": "code",
      "source": [],
      "metadata": {
        "id": "pHOA_7En4TNQ"
      },
      "execution_count": null,
      "outputs": []
    },
    {
      "cell_type": "markdown",
      "metadata": {
        "id": "NmNFns2yTGut"
      },
      "source": [
        "## Text to Audio Extraction"
      ]
    },
    {
      "cell_type": "code",
      "metadata": {
        "id": "7Lb2_pU8yutu",
        "collapsed": true
      },
      "source": [
        "from google.colab import drive\n",
        "drive.mount('/content/drive')\n",
        "%cd \"/content/drive/My Drive/Colab Notebooks/POC_Projects\"\n",
        "# !ls\n",
        "\n",
        "# make a request to google to get synthesis  \n",
        "# t1 = gtts.gTTS(\"Welcome to javaTpoint\")\n",
        "!pip install gTTS\n",
        "import gtts \n",
        "with open('/content/drive/My Drive/Colab Notebooks/POC_Projects/OCR_Output.txt', 'r') as file:\n",
        "    data = file.read().replace('~', '')#data = file.read().replace('\\n', '')\n",
        "\n",
        "fhand = data.replace(\"\\ufeff\", \"\")\n",
        "print(fhand[0:100])\n",
        "t1 = gtts.gTTS(fhand)\n",
        "\n",
        "# save the audio file  \n",
        "t1.save(\"welcome.mp3\")\n",
        "from IPython.display import Audio\n",
        "t1 = gtts.gTTS(fhand,lang='en')#'hi'\n",
        "Audio('welcome.mp3')\n",
        "# Audio('welcome.mp3',autoplay=True)"
      ],
      "execution_count": null,
      "outputs": []
    },
    {
      "cell_type": "code",
      "metadata": {
        "id": "2LGwuzenxmPw"
      },
      "source": [
        "t1_hi_ascent = gtts.gTTS(fhand,lang='hi')\n",
        "Audio('welcome.mp3')"
      ],
      "execution_count": null,
      "outputs": []
    },
    {
      "cell_type": "code",
      "metadata": {
        "id": "mUj68422zakF"
      },
      "source": [
        "# print(translator.detect(fhand))"
      ],
      "execution_count": null,
      "outputs": []
    },
    {
      "cell_type": "code",
      "metadata": {
        "id": "B3OrgR79pY57"
      },
      "source": [
        "# text_en = translator.translate(fhand,src ='en')\n",
        "# print(text_en.text)"
      ],
      "execution_count": null,
      "outputs": []
    },
    {
      "cell_type": "code",
      "metadata": {
        "id": "okLkVyJrwYwe"
      },
      "source": [
        "# text_en_hi = translator.translate(fhand,src ='en',dest = 'hi')\n",
        "# print(text_en_hi.text)"
      ],
      "execution_count": null,
      "outputs": []
    },
    {
      "cell_type": "code",
      "metadata": {
        "id": "isvYQXJawY95"
      },
      "source": [],
      "execution_count": null,
      "outputs": []
    },
    {
      "cell_type": "code",
      "metadata": {
        "id": "p3iyIQyuUd3D"
      },
      "source": [],
      "execution_count": null,
      "outputs": []
    },
    {
      "cell_type": "markdown",
      "metadata": {
        "id": "q7QcltQSSM5u"
      },
      "source": [
        "# PDF to Text extraction"
      ]
    },
    {
      "cell_type": "code",
      "source": [],
      "metadata": {
        "id": "QQ8qmUfnFyoY"
      },
      "execution_count": null,
      "outputs": []
    },
    {
      "cell_type": "code",
      "metadata": {
        "id": "4iDeNJqAyuwX"
      },
      "source": [
        "from google.colab import drive\n",
        "drive.mount('/content/drive')\n",
        "path = '/content/drive/My Drive/Colab Notebooks/POC_Projects/Resume_Vikas Kumar_Data Scientist.pdf'\n",
        "\n",
        "!apt-get install poppler-utils\n",
        "!pip install pdf2image\n",
        "\n",
        "from pdf2image import convert_from_path\n",
        "images = convert_from_path(path)\n",
        "from IPython.display import display, Image\n",
        "display(images[0]) # for multiple pages, you can use images[1] etc"
      ],
      "execution_count": null,
      "outputs": []
    },
    {
      "cell_type": "code",
      "metadata": {
        "id": "zGePQMjiyuzM"
      },
      "source": [
        "!pip install easyocr\n",
        "import numpy as np\n",
        "import easyocr\n",
        "reader = easyocr.Reader(['en']) #IMP\n",
        "\n",
        "bounds = reader.readtext(np.array(images[0]),min_size = 0,slope_ths=0.2,ycenter_ths = 0.7, height_ths = 0.6, width_ths = 0.8, decoder = 'beamsearch', beamWidth = 10)\n",
        "bounds\n",
        "\n",
        "# import PIL\n",
        "from PIL import ImageDraw\n",
        "def draw_boxes (image,bounds, color = 'yellow', width = 2):\n",
        "  draw = ImageDraw.Draw(image)\n",
        "  for bound in bounds:\n",
        "    p0, p1, p2, p3 = bound[0]\n",
        "    draw.line([*p0,*p1,*p2,*p3,*p0],fill=color, width = width)\n",
        "  return image\n",
        "\n",
        "draw_boxes(images[0], bounds)"
      ],
      "execution_count": null,
      "outputs": []
    },
    {
      "cell_type": "code",
      "metadata": {
        "id": "IPWFgsD0yu1z"
      },
      "source": [
        "# bounds[1][1]\n",
        "text = ''\n",
        "for i in range(len(bounds)):\n",
        "  text = text + bounds[i][1] + '\\n'\n",
        "\n",
        "print(text)"
      ],
      "execution_count": null,
      "outputs": []
    },
    {
      "cell_type": "code",
      "metadata": {
        "id": "XDhTRNH-yu4g"
      },
      "source": [],
      "execution_count": null,
      "outputs": []
    },
    {
      "cell_type": "code",
      "metadata": {
        "id": "7mz9cBKuyu7j"
      },
      "source": [
        "import spacy\n",
        "nlp = spacy.load('en_core_web_sm')\n",
        "doc = nlp(text)\n",
        "\n",
        "from spacy import displacy\n",
        "displacy.render (nlp(doc.text),style = 'ent',jupyter = True)"
      ],
      "execution_count": null,
      "outputs": []
    },
    {
      "cell_type": "code",
      "metadata": {
        "id": "o-aLEnNSy4_9"
      },
      "source": [],
      "execution_count": null,
      "outputs": []
    },
    {
      "cell_type": "code",
      "metadata": {
        "id": "wHTZau-sSKKN"
      },
      "source": [],
      "execution_count": null,
      "outputs": []
    },
    {
      "cell_type": "markdown",
      "metadata": {
        "id": "Ac6xpKTwSWDi"
      },
      "source": [
        "# Video to Text Extraction"
      ]
    },
    {
      "cell_type": "code",
      "metadata": {
        "id": "28fnxZaGSKNj"
      },
      "source": [
        "!apt install libasound2-dev portaudio19-dev libportaudio2 libportaudiocpp0 ffmpeg\n",
        "!pip install deepspeech==0.9.3\n",
        "\n",
        "!pip install wget \n",
        "!pip install easyocr \n",
        "!pip install deepspeech-gpu==0.9.3 \n",
        "!pip install pafy \n",
        "!pip install youtube-dl \n",
        "\n",
        "!wget https://github.com/mozilla/DeepSpeech/releases/download/v0.9.3/deepspeech-0.9.3-models.pbmm \n",
        "!wget https://github.com/mozilla/DeepSpeech/releases/download/v0.9.3/deepspeech-0.9.3-models.scorer\n",
        "\n",
        "from deepspeech import Model \n",
        "import numpy as np \n",
        "import os \n",
        "import wave \n",
        "import easyocr \n",
        "import pafy \n",
        "from IPython.display import Audio, Image \n",
        "from IPython.display import YouTubeVideo \n",
        "\n",
        "model_file_path = 'deepspeech-0.9.3-models.pbmm' \n",
        "lm_file_path = 'deepspeech-0.9.3-models.scorer' \n",
        "beam_width = 500  #more beam width, more accuracy but it will take more time also\n",
        "lm_alpha = 0.93 \n",
        "lm_beta = 1.18 \n",
        "model = Model(model_file_path) \n",
        "model.enableExternalScorer(lm_file_path) \n",
        "model.setScorerAlphaBeta(lm_alpha, lm_beta) \n",
        "model.setBeamWidth(beam_width) \n",
        "YOUTUBE_ID = 'zcAbBWdCxD4' \n",
        "YouTubeVideo(YOUTUBE_ID)\n",
        "\n",
        "URL='https://www.youtube.com/watch\\?v\\='+ YOUTUBE_ID \n",
        "!youtube-dl --extract-audio --audio-format wav --output \"gates.%(ext)s\" $URL \n",
        "\n",
        "!ffmpeg -i gates.wav -vn -ar 16000 -ac 1 SteveJobs.wav #16000 is the framerate\n"
      ],
      "execution_count": null,
      "outputs": []
    },
    {
      "cell_type": "code",
      "metadata": {
        "id": "5MEbnV3tbB1y"
      },
      "source": [
        "Audio('SteveJobs.wav')"
      ],
      "execution_count": null,
      "outputs": []
    },
    {
      "cell_type": "code",
      "metadata": {
        "id": "TwF-p1o_SKf3"
      },
      "source": [
        "stream = model.createStream()\n",
        "\n",
        "def read_wav_file(filename):\n",
        "  with wave.open(filename,'rb') as w:\n",
        "    rate = w.getframerate()\n",
        "    frames = w.getnframes()\n",
        "    buffer = w.readframes(frames)\n",
        "  return buffer, rate  \n",
        "\n",
        "from IPython.display import clear_output \n",
        "def transcribe_streaming(audio_file): \n",
        "  buffer, rate = read_wav_file(audio_file) \n",
        "  offset=0 \n",
        "  batch_size=65536 \n",
        "  text=''\n",
        "\n",
        "\n",
        "  while offset < len(buffer): \n",
        "    end_offset=offset+batch_size \n",
        "    chunk=buffer[offset:end_offset]\n",
        "    datal6 = np.frombuffer(chunk, dtype=np.int16)\n",
        "\n",
        "\n",
        "    stream.feedAudioContent(datal6) \n",
        "    text=stream.intermediateDecode() \n",
        "    #clear output(wait=True) \n",
        "    print(text) \n",
        "    offset=end_offset \n",
        "  return True \n",
        "\n",
        "# transcribe_streaming('SteveJobs.wav')"
      ],
      "execution_count": null,
      "outputs": []
    },
    {
      "cell_type": "code",
      "metadata": {
        "id": "Ytu2LskLlY6b"
      },
      "source": [],
      "execution_count": null,
      "outputs": []
    },
    {
      "cell_type": "code",
      "metadata": {
        "id": "oxfaj1imXjQ1"
      },
      "source": [
        "def transcribe(audio_file):\n",
        "  buffer, rate =read_wav_file(audio_file)\n",
        "  data16 = np.frombuffer(buffer,dtype = np.int16)\n",
        "  return model.sttWithMetadata(data16)\n",
        "\n",
        "transcribe('SteveJobs.wav')\n"
      ],
      "execution_count": null,
      "outputs": []
    },
    {
      "cell_type": "code",
      "metadata": {
        "id": "m3MiFHozncty"
      },
      "source": [
        "\n",
        "import wget\n",
        "thumbnailurl = 'https://img.youtube.com/vi/'+YOUTUBE_ID + '/hqdefault.jpg'\n",
        "print(thumbnailurl)\n",
        "thumbnail = wget.download(thumbnailurl)"
      ],
      "execution_count": null,
      "outputs": []
    },
    {
      "cell_type": "code",
      "metadata": {
        "id": "5I3aZzsBncz6"
      },
      "source": [],
      "execution_count": null,
      "outputs": []
    },
    {
      "cell_type": "code",
      "metadata": {
        "id": "s_4R1ojtXjXM"
      },
      "source": [
        "# !ls\n",
        "\n",
        "# thumbnail\n",
        "\n",
        "# Image(thumbnail)"
      ],
      "execution_count": null,
      "outputs": []
    },
    {
      "cell_type": "code",
      "metadata": {
        "id": "MqCDAPEmXjge"
      },
      "source": [
        "# reader = easyocr.Reader(['en'])\n",
        "\n",
        "# bounds = reader.readtext(thumbnail,width_ths =0.7,link_threshold =0.8,detail = 0)\n",
        "# print(bounds)\n",
        "\n",
        "# video = pafy.new(URL.replace('\\\\',''))\n",
        "\n",
        "# print(video.title)\n",
        "\n",
        "# print(video)"
      ],
      "execution_count": null,
      "outputs": []
    },
    {
      "cell_type": "code",
      "metadata": {
        "id": "E3ncFE16Xj-V"
      },
      "source": [],
      "execution_count": null,
      "outputs": []
    },
    {
      "cell_type": "code",
      "metadata": {
        "id": "hzs5dvE0SKjB"
      },
      "source": [],
      "execution_count": null,
      "outputs": []
    }
  ]
}