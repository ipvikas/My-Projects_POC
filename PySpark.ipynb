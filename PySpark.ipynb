{
  "nbformat": 4,
  "nbformat_minor": 0,
  "metadata": {
    "colab": {
      "provenance": []
    },
    "kernelspec": {
      "name": "python3",
      "display_name": "Python 3"
    },
    "accelerator": "GPU",
    "gpuClass": "standard"
  },
  "cells": [
    {
      "cell_type": "markdown",
      "source": [
        "Pyspark is like Python binding for Spark. spark is written in scala so Pyspark provides a python binding to work with spark through python scripting. PySpark supports most of Spark’s features such as Spark SQL, DataFrame, Streaming, MLlib (Machine Learning) and Spark Core.\n",
        "\n",
        "After that, we are installing Facebook Prophet which is used to model the time-series data.\n",
        "\n",
        "Spark is a lazy evaluation framework means until we apply any action it will not print anything only it prepares the DAG(Directed Acyclic Graph) which is a rough plan of execution. So we use an action statement to see the output like the show, count, etc."
      ],
      "metadata": {
        "id": "B6YV615y2eln"
      }
    },
    {
      "cell_type": "markdown",
      "source": [
        "![image.png](data:image/png;base64,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)"
      ],
      "metadata": {
        "id": "ik8dv9iVbQ5r"
      }
    },
    {
      "cell_type": "markdown",
      "source": [
        "# 1. Exploratory Data Analysis (EDA)"
      ],
      "metadata": {
        "id": "ZnGH4Ki97g4k"
      }
    },
    {
      "cell_type": "markdown",
      "source": [
        "PySpark applications start with initializing SparkSession which is the entry point of PySpark as below. In case of running it in PySpark shell via pyspark executable, the shell automatically creates the session in the variable spark for users."
      ],
      "metadata": {
        "id": "qMj_WrK5WEbw"
      }
    },
    {
      "cell_type": "code",
      "metadata": {
        "id": "tzyAudcJWcCi",
        "colab": {
          "base_uri": "https://localhost:8080/"
        },
        "outputId": "6ba69fa4-1e9b-48cb-97a4-3818e034dfdf"
      },
      "source": [
        "!pip install pyspark"
      ],
      "execution_count": 1,
      "outputs": [
        {
          "output_type": "stream",
          "name": "stdout",
          "text": [
            "Looking in indexes: https://pypi.org/simple, https://us-python.pkg.dev/colab-wheels/public/simple/\n",
            "Requirement already satisfied: pyspark in /usr/local/lib/python3.8/dist-packages (3.3.1)\n",
            "Requirement already satisfied: py4j==0.10.9.5 in /usr/local/lib/python3.8/dist-packages (from pyspark) (0.10.9.5)\n"
          ]
        }
      ]
    },
    {
      "cell_type": "code",
      "source": [
        "import pyspark"
      ],
      "metadata": {
        "id": "kB-0RFe_RniU"
      },
      "execution_count": 2,
      "outputs": []
    },
    {
      "cell_type": "markdown",
      "source": [
        "Spark SQL and DataFrame\n",
        "\n",
        "Spark SQL is a Spark module for structured data processing. It provides a programming abstraction called DataFrame and can also act as distributed SQL query engine."
      ],
      "metadata": {
        "id": "r7B5VUgOcnEx"
      }
    },
    {
      "cell_type": "code",
      "source": [
        "from pyspark.sql import SparkSession\n",
        "spark = SparkSession.builder.master('local').getOrCreate()"
      ],
      "metadata": {
        "id": "444d1k8sRnlo"
      },
      "execution_count": 3,
      "outputs": []
    },
    {
      "cell_type": "code",
      "source": [
        "spark"
      ],
      "metadata": {
        "colab": {
          "base_uri": "https://localhost:8080/",
          "height": 219
        },
        "id": "6c6_3s3YRnox",
        "outputId": "25c1dc82-a08f-4d8d-f18d-c7ae21f142b7"
      },
      "execution_count": 4,
      "outputs": [
        {
          "output_type": "execute_result",
          "data": {
            "text/plain": [
              "<pyspark.sql.session.SparkSession at 0x7f41d705de20>"
            ],
            "text/html": [
              "\n",
              "            <div>\n",
              "                <p><b>SparkSession - in-memory</b></p>\n",
              "                \n",
              "        <div>\n",
              "            <p><b>SparkContext</b></p>\n",
              "\n",
              "            <p><a href=\"http://3f0207ecaf08:4040\">Spark UI</a></p>\n",
              "\n",
              "            <dl>\n",
              "              <dt>Version</dt>\n",
              "                <dd><code>v3.3.1</code></dd>\n",
              "              <dt>Master</dt>\n",
              "                <dd><code>local</code></dd>\n",
              "              <dt>AppName</dt>\n",
              "                <dd><code>pyspark-shell</code></dd>\n",
              "            </dl>\n",
              "        </div>\n",
              "        \n",
              "            </div>\n",
              "        "
            ]
          },
          "metadata": {},
          "execution_count": 4
        }
      ]
    },
    {
      "cell_type": "markdown",
      "source": [
        "A PySpark DataFrame can be created via pyspark.sql.SparkSession.createDataFrame typically by passing a list of lists, tuples, dictionaries and pyspark.sql.Rows, a pandas DataFrame and an RDD consisting of such a list. pyspark.sql.SparkSession.createDataFrame takes the schema argument to specify the schema of the DataFrame. When it is omitted, PySpark infers the corresponding schema by taking a sample from the data."
      ],
      "metadata": {
        "id": "ysJblsBsXRZH"
      }
    },
    {
      "cell_type": "code",
      "source": [
        "import pandas as pd\n",
        "\n",
        "from google.colab import drive\n",
        "drive.mount('/content/drive')\n",
        "df=pd.read_csv('/content/drive/My Drive/Colab Notebooks/PySpark/weekly_sales_data.csv')\n",
        "sdf = spark.createDataFrame(df)"
      ],
      "metadata": {
        "id": "RiQ3XwvIRnrq",
        "colab": {
          "base_uri": "https://localhost:8080/"
        },
        "outputId": "fcc6b796-6e81-4bfe-d227-84923d75f478"
      },
      "execution_count": 5,
      "outputs": [
        {
          "output_type": "stream",
          "name": "stdout",
          "text": [
            "Drive already mounted at /content/drive; to attempt to forcibly remount, call drive.mount(\"/content/drive\", force_remount=True).\n"
          ]
        }
      ]
    },
    {
      "cell_type": "markdown",
      "source": [
        "Alternatively, you can enable spark.sql.repl.eagerEval.enabled configuration for the eager evaluation of PySpark DataFrame in notebooks such as Jupyter. The number of rows to show can be controlled via spark.sql.repl.eagerEval.maxNumRows configuration."
      ],
      "metadata": {
        "id": "x0zuNr5OYqMF"
      }
    },
    {
      "cell_type": "code",
      "source": [
        "spark.conf.set('spark.sql.repl.eagerEval.enabled', True)\n",
        "df"
      ],
      "metadata": {
        "colab": {
          "base_uri": "https://localhost:8080/",
          "height": 424
        },
        "id": "03OOg_pHYW-P",
        "outputId": "96a61532-494e-45b0-bdd8-663c18174c96"
      },
      "execution_count": 6,
      "outputs": [
        {
          "output_type": "execute_result",
          "data": {
            "text/plain": [
              "           date  store_id        sales\n",
              "0      1/6/2019        25  736657.2267\n",
              "1      1/6/2019        26  233711.0000\n",
              "2      1/6/2019        28  692156.3794\n",
              "3      1/6/2019        29  213706.8000\n",
              "4      1/6/2019        30  266455.0000\n",
              "..          ...       ...          ...\n",
              "495  12/15/2019        31  401803.3590\n",
              "496  12/15/2019        35  135799.1429\n",
              "497  12/15/2019        38  115424.2250\n",
              "498  12/15/2019        41  103375.0000\n",
              "499  12/15/2019        44   51210.0000\n",
              "\n",
              "[500 rows x 3 columns]"
            ],
            "text/html": [
              "\n",
              "  <div id=\"df-e2c9e450-2265-4876-b4c5-832bf6944dbe\">\n",
              "    <div class=\"colab-df-container\">\n",
              "      <div>\n",
              "<style scoped>\n",
              "    .dataframe tbody tr th:only-of-type {\n",
              "        vertical-align: middle;\n",
              "    }\n",
              "\n",
              "    .dataframe tbody tr th {\n",
              "        vertical-align: top;\n",
              "    }\n",
              "\n",
              "    .dataframe thead th {\n",
              "        text-align: right;\n",
              "    }\n",
              "</style>\n",
              "<table border=\"1\" class=\"dataframe\">\n",
              "  <thead>\n",
              "    <tr style=\"text-align: right;\">\n",
              "      <th></th>\n",
              "      <th>date</th>\n",
              "      <th>store_id</th>\n",
              "      <th>sales</th>\n",
              "    </tr>\n",
              "  </thead>\n",
              "  <tbody>\n",
              "    <tr>\n",
              "      <th>0</th>\n",
              "      <td>1/6/2019</td>\n",
              "      <td>25</td>\n",
              "      <td>736657.2267</td>\n",
              "    </tr>\n",
              "    <tr>\n",
              "      <th>1</th>\n",
              "      <td>1/6/2019</td>\n",
              "      <td>26</td>\n",
              "      <td>233711.0000</td>\n",
              "    </tr>\n",
              "    <tr>\n",
              "      <th>2</th>\n",
              "      <td>1/6/2019</td>\n",
              "      <td>28</td>\n",
              "      <td>692156.3794</td>\n",
              "    </tr>\n",
              "    <tr>\n",
              "      <th>3</th>\n",
              "      <td>1/6/2019</td>\n",
              "      <td>29</td>\n",
              "      <td>213706.8000</td>\n",
              "    </tr>\n",
              "    <tr>\n",
              "      <th>4</th>\n",
              "      <td>1/6/2019</td>\n",
              "      <td>30</td>\n",
              "      <td>266455.0000</td>\n",
              "    </tr>\n",
              "    <tr>\n",
              "      <th>...</th>\n",
              "      <td>...</td>\n",
              "      <td>...</td>\n",
              "      <td>...</td>\n",
              "    </tr>\n",
              "    <tr>\n",
              "      <th>495</th>\n",
              "      <td>12/15/2019</td>\n",
              "      <td>31</td>\n",
              "      <td>401803.3590</td>\n",
              "    </tr>\n",
              "    <tr>\n",
              "      <th>496</th>\n",
              "      <td>12/15/2019</td>\n",
              "      <td>35</td>\n",
              "      <td>135799.1429</td>\n",
              "    </tr>\n",
              "    <tr>\n",
              "      <th>497</th>\n",
              "      <td>12/15/2019</td>\n",
              "      <td>38</td>\n",
              "      <td>115424.2250</td>\n",
              "    </tr>\n",
              "    <tr>\n",
              "      <th>498</th>\n",
              "      <td>12/15/2019</td>\n",
              "      <td>41</td>\n",
              "      <td>103375.0000</td>\n",
              "    </tr>\n",
              "    <tr>\n",
              "      <th>499</th>\n",
              "      <td>12/15/2019</td>\n",
              "      <td>44</td>\n",
              "      <td>51210.0000</td>\n",
              "    </tr>\n",
              "  </tbody>\n",
              "</table>\n",
              "<p>500 rows × 3 columns</p>\n",
              "</div>\n",
              "      <button class=\"colab-df-convert\" onclick=\"convertToInteractive('df-e2c9e450-2265-4876-b4c5-832bf6944dbe')\"\n",
              "              title=\"Convert this dataframe to an interactive table.\"\n",
              "              style=\"display:none;\">\n",
              "        \n",
              "  <svg xmlns=\"http://www.w3.org/2000/svg\" height=\"24px\"viewBox=\"0 0 24 24\"\n",
              "       width=\"24px\">\n",
              "    <path d=\"M0 0h24v24H0V0z\" fill=\"none\"/>\n",
              "    <path d=\"M18.56 5.44l.94 2.06.94-2.06 2.06-.94-2.06-.94-.94-2.06-.94 2.06-2.06.94zm-11 1L8.5 8.5l.94-2.06 2.06-.94-2.06-.94L8.5 2.5l-.94 2.06-2.06.94zm10 10l.94 2.06.94-2.06 2.06-.94-2.06-.94-.94-2.06-.94 2.06-2.06.94z\"/><path d=\"M17.41 7.96l-1.37-1.37c-.4-.4-.92-.59-1.43-.59-.52 0-1.04.2-1.43.59L10.3 9.45l-7.72 7.72c-.78.78-.78 2.05 0 2.83L4 21.41c.39.39.9.59 1.41.59.51 0 1.02-.2 1.41-.59l7.78-7.78 2.81-2.81c.8-.78.8-2.07 0-2.86zM5.41 20L4 18.59l7.72-7.72 1.47 1.35L5.41 20z\"/>\n",
              "  </svg>\n",
              "      </button>\n",
              "      \n",
              "  <style>\n",
              "    .colab-df-container {\n",
              "      display:flex;\n",
              "      flex-wrap:wrap;\n",
              "      gap: 12px;\n",
              "    }\n",
              "\n",
              "    .colab-df-convert {\n",
              "      background-color: #E8F0FE;\n",
              "      border: none;\n",
              "      border-radius: 50%;\n",
              "      cursor: pointer;\n",
              "      display: none;\n",
              "      fill: #1967D2;\n",
              "      height: 32px;\n",
              "      padding: 0 0 0 0;\n",
              "      width: 32px;\n",
              "    }\n",
              "\n",
              "    .colab-df-convert:hover {\n",
              "      background-color: #E2EBFA;\n",
              "      box-shadow: 0px 1px 2px rgba(60, 64, 67, 0.3), 0px 1px 3px 1px rgba(60, 64, 67, 0.15);\n",
              "      fill: #174EA6;\n",
              "    }\n",
              "\n",
              "    [theme=dark] .colab-df-convert {\n",
              "      background-color: #3B4455;\n",
              "      fill: #D2E3FC;\n",
              "    }\n",
              "\n",
              "    [theme=dark] .colab-df-convert:hover {\n",
              "      background-color: #434B5C;\n",
              "      box-shadow: 0px 1px 3px 1px rgba(0, 0, 0, 0.15);\n",
              "      filter: drop-shadow(0px 1px 2px rgba(0, 0, 0, 0.3));\n",
              "      fill: #FFFFFF;\n",
              "    }\n",
              "  </style>\n",
              "\n",
              "      <script>\n",
              "        const buttonEl =\n",
              "          document.querySelector('#df-e2c9e450-2265-4876-b4c5-832bf6944dbe button.colab-df-convert');\n",
              "        buttonEl.style.display =\n",
              "          google.colab.kernel.accessAllowed ? 'block' : 'none';\n",
              "\n",
              "        async function convertToInteractive(key) {\n",
              "          const element = document.querySelector('#df-e2c9e450-2265-4876-b4c5-832bf6944dbe');\n",
              "          const dataTable =\n",
              "            await google.colab.kernel.invokeFunction('convertToInteractive',\n",
              "                                                     [key], {});\n",
              "          if (!dataTable) return;\n",
              "\n",
              "          const docLinkHtml = 'Like what you see? Visit the ' +\n",
              "            '<a target=\"_blank\" href=https://colab.research.google.com/notebooks/data_table.ipynb>data table notebook</a>'\n",
              "            + ' to learn more about interactive tables.';\n",
              "          element.innerHTML = '';\n",
              "          dataTable['output_type'] = 'display_data';\n",
              "          await google.colab.output.renderOutput(dataTable, element);\n",
              "          const docLink = document.createElement('div');\n",
              "          docLink.innerHTML = docLinkHtml;\n",
              "          element.appendChild(docLink);\n",
              "        }\n",
              "      </script>\n",
              "    </div>\n",
              "  </div>\n",
              "  "
            ]
          },
          "metadata": {},
          "execution_count": 6
        }
      ]
    },
    {
      "cell_type": "code",
      "source": [
        "sdf"
      ],
      "metadata": {
        "colab": {
          "base_uri": "https://localhost:8080/",
          "height": 520
        },
        "id": "2iQIwadnRnuy",
        "outputId": "d418b33a-2d64-4696-fbaa-ad847463ae32"
      },
      "execution_count": 7,
      "outputs": [
        {
          "output_type": "execute_result",
          "data": {
            "text/plain": [
              "+---------+--------+-----------+\n",
              "|     date|store_id|      sales|\n",
              "+---------+--------+-----------+\n",
              "| 1/6/2019|      25|736657.2267|\n",
              "| 1/6/2019|      26|   233711.0|\n",
              "| 1/6/2019|      28|692156.3794|\n",
              "| 1/6/2019|      29|   213706.8|\n",
              "| 1/6/2019|      30|   266455.0|\n",
              "| 1/6/2019|      31|837342.8156|\n",
              "| 1/6/2019|      35|   201013.6|\n",
              "| 1/6/2019|      38|  242397.03|\n",
              "| 1/6/2019|      41|   244189.4|\n",
              "| 1/6/2019|      44|   164553.5|\n",
              "|1/13/2019|      25|696457.1717|\n",
              "|1/13/2019|      26|  261136.45|\n",
              "|1/13/2019|      28|  787359.03|\n",
              "|1/13/2019|      29|   279218.0|\n",
              "|1/13/2019|      30|  252519.59|\n",
              "|1/13/2019|      31|836604.5717|\n",
              "|1/13/2019|      35| 277550.185|\n",
              "|1/13/2019|      38| 215895.275|\n",
              "|1/13/2019|      41|   231992.5|\n",
              "|1/13/2019|      44|   134188.0|\n",
              "+---------+--------+-----------+\n",
              "only showing top 20 rows"
            ],
            "text/html": [
              "<table border='1'>\n",
              "<tr><th>date</th><th>store_id</th><th>sales</th></tr>\n",
              "<tr><td>1/6/2019</td><td>25</td><td>736657.2267</td></tr>\n",
              "<tr><td>1/6/2019</td><td>26</td><td>233711.0</td></tr>\n",
              "<tr><td>1/6/2019</td><td>28</td><td>692156.3794</td></tr>\n",
              "<tr><td>1/6/2019</td><td>29</td><td>213706.8</td></tr>\n",
              "<tr><td>1/6/2019</td><td>30</td><td>266455.0</td></tr>\n",
              "<tr><td>1/6/2019</td><td>31</td><td>837342.8156</td></tr>\n",
              "<tr><td>1/6/2019</td><td>35</td><td>201013.6</td></tr>\n",
              "<tr><td>1/6/2019</td><td>38</td><td>242397.03</td></tr>\n",
              "<tr><td>1/6/2019</td><td>41</td><td>244189.4</td></tr>\n",
              "<tr><td>1/6/2019</td><td>44</td><td>164553.5</td></tr>\n",
              "<tr><td>1/13/2019</td><td>25</td><td>696457.1717</td></tr>\n",
              "<tr><td>1/13/2019</td><td>26</td><td>261136.45</td></tr>\n",
              "<tr><td>1/13/2019</td><td>28</td><td>787359.03</td></tr>\n",
              "<tr><td>1/13/2019</td><td>29</td><td>279218.0</td></tr>\n",
              "<tr><td>1/13/2019</td><td>30</td><td>252519.59</td></tr>\n",
              "<tr><td>1/13/2019</td><td>31</td><td>836604.5717</td></tr>\n",
              "<tr><td>1/13/2019</td><td>35</td><td>277550.185</td></tr>\n",
              "<tr><td>1/13/2019</td><td>38</td><td>215895.275</td></tr>\n",
              "<tr><td>1/13/2019</td><td>41</td><td>231992.5</td></tr>\n",
              "<tr><td>1/13/2019</td><td>44</td><td>134188.0</td></tr>\n",
              "</table>\n",
              "only showing top 20 rows\n"
            ]
          },
          "metadata": {},
          "execution_count": 7
        }
      ]
    },
    {
      "cell_type": "markdown",
      "source": [
        "The top rows of a DataFrame can be displayed using DataFrame.show()"
      ],
      "metadata": {
        "id": "N9wH1cFvYG4O"
      }
    },
    {
      "cell_type": "code",
      "source": [
        "sdf.show(5)"
      ],
      "metadata": {
        "colab": {
          "base_uri": "https://localhost:8080/"
        },
        "id": "Ws0ekV5SvgCC",
        "outputId": "98d1d07b-bc7a-4dc1-b706-f2eaa8a7e985"
      },
      "execution_count": 8,
      "outputs": [
        {
          "output_type": "stream",
          "name": "stdout",
          "text": [
            "+--------+--------+-----------+\n",
            "|    date|store_id|      sales|\n",
            "+--------+--------+-----------+\n",
            "|1/6/2019|      25|736657.2267|\n",
            "|1/6/2019|      26|   233711.0|\n",
            "|1/6/2019|      28|692156.3794|\n",
            "|1/6/2019|      29|   213706.8|\n",
            "|1/6/2019|      30|   266455.0|\n",
            "+--------+--------+-----------+\n",
            "only showing top 5 rows\n",
            "\n"
          ]
        }
      ]
    },
    {
      "cell_type": "code",
      "source": [
        "sdf.head(2)"
      ],
      "metadata": {
        "colab": {
          "base_uri": "https://localhost:8080/"
        },
        "id": "S03qWfYNwBZF",
        "outputId": "61dd914e-4347-46ca-a427-1f21baf4a6c5"
      },
      "execution_count": 9,
      "outputs": [
        {
          "output_type": "execute_result",
          "data": {
            "text/plain": [
              "[Row(date='1/6/2019', store_id=25, sales=736657.2267),\n",
              " Row(date='1/6/2019', store_id=26, sales=233711.0)]"
            ]
          },
          "metadata": {},
          "execution_count": 9
        }
      ]
    },
    {
      "cell_type": "code",
      "source": [
        "type(sdf)"
      ],
      "metadata": {
        "colab": {
          "base_uri": "https://localhost:8080/"
        },
        "id": "8QutA-rLRnxq",
        "outputId": "6b885cac-5a7f-4446-ca47-aaed27f8ece3"
      },
      "execution_count": 10,
      "outputs": [
        {
          "output_type": "execute_result",
          "data": {
            "text/plain": [
              "pyspark.sql.dataframe.DataFrame"
            ]
          },
          "metadata": {},
          "execution_count": 10
        }
      ]
    },
    {
      "cell_type": "code",
      "source": [
        "sdf.printSchema()"
      ],
      "metadata": {
        "colab": {
          "base_uri": "https://localhost:8080/"
        },
        "id": "cLKsRtfpUHwO",
        "outputId": "94d43ca0-b80c-49b5-bb65-f082e96e059a"
      },
      "execution_count": 11,
      "outputs": [
        {
          "output_type": "stream",
          "name": "stdout",
          "text": [
            "root\n",
            " |-- date: string (nullable = true)\n",
            " |-- store_id: long (nullable = true)\n",
            " |-- sales: double (nullable = true)\n",
            "\n"
          ]
        }
      ]
    },
    {
      "cell_type": "code",
      "source": [
        "sdf.dtypes"
      ],
      "metadata": {
        "colab": {
          "base_uri": "https://localhost:8080/"
        },
        "id": "YAdKm-srwklB",
        "outputId": "2679e417-55f9-4c87-f3b3-0c2d565a0146"
      },
      "execution_count": 12,
      "outputs": [
        {
          "output_type": "execute_result",
          "data": {
            "text/plain": [
              "[('date', 'string'), ('store_id', 'bigint'), ('sales', 'double')]"
            ]
          },
          "metadata": {},
          "execution_count": 12
        }
      ]
    },
    {
      "cell_type": "code",
      "source": [
        "#Show the summary of the DataFrame\n",
        "sdf.describe().show()\n",
        "#sdf.describe()"
      ],
      "metadata": {
        "colab": {
          "base_uri": "https://localhost:8080/"
        },
        "id": "eY-TucU2H_Al",
        "outputId": "86c9f844-b07d-4424-bb8e-f9a2d5f8bc69"
      },
      "execution_count": 13,
      "outputs": [
        {
          "output_type": "stream",
          "name": "stdout",
          "text": [
            "+-------+---------+------------------+------------------+\n",
            "|summary|     date|          store_id|             sales|\n",
            "+-------+---------+------------------+------------------+\n",
            "|  count|      500|               500|               500|\n",
            "|   mean|     null|              32.7|447080.02193044015|\n",
            "| stddev|     null|6.1713995450537285| 297065.9698953645|\n",
            "|    min|1/13/2019|                25|           12788.0|\n",
            "|    max| 9/8/2019|                44|       1631584.985|\n",
            "+-------+---------+------------------+------------------+\n",
            "\n"
          ]
        }
      ]
    },
    {
      "cell_type": "code",
      "source": [
        "sdf.columns #You can see the DataFrame's schema and column names"
      ],
      "metadata": {
        "colab": {
          "base_uri": "https://localhost:8080/"
        },
        "id": "YFuaICjQUH18",
        "outputId": "44a4b532-850e-42e9-992d-81e2902a0986"
      },
      "execution_count": 14,
      "outputs": [
        {
          "output_type": "execute_result",
          "data": {
            "text/plain": [
              "['date', 'store_id', 'sales']"
            ]
          },
          "metadata": {},
          "execution_count": 14
        }
      ]
    },
    {
      "cell_type": "markdown",
      "source": [
        "PySpark DataFrame also provides a way of handling grouped data by using the common approach, split-apply-combine strategy. It groups the data by a certain condition applies a function to each group and then combines them back to the DataFrame."
      ],
      "metadata": {
        "id": "cWroQGPUapWJ"
      }
    },
    {
      "cell_type": "code",
      "source": [
        "#DataFrame.select() takes the Column instances that returns another DataFrame.\n",
        "# sdf.select(['store_id']).groupBy('store_id').agg({'store_id':'count'}).show()\n",
        "sdf.groupBy('store_id').count().show()"
      ],
      "metadata": {
        "colab": {
          "base_uri": "https://localhost:8080/"
        },
        "id": "p21QQVdxUH5C",
        "outputId": "1b7e5144-7b16-477e-93f7-ca6da14c0e93"
      },
      "execution_count": 15,
      "outputs": [
        {
          "output_type": "stream",
          "name": "stdout",
          "text": [
            "+--------+-----+\n",
            "|store_id|count|\n",
            "+--------+-----+\n",
            "|      26|   50|\n",
            "|      29|   50|\n",
            "|      31|   50|\n",
            "|      25|   50|\n",
            "|      41|   50|\n",
            "|      28|   50|\n",
            "|      44|   50|\n",
            "|      35|   50|\n",
            "|      38|   50|\n",
            "|      30|   50|\n",
            "+--------+-----+\n",
            "\n"
          ]
        }
      ]
    },
    {
      "cell_type": "code",
      "source": [
        "# sdf.groupBy('store_id').agg({'sales':'sum'}).show() \n",
        "# sdf.groupBy('store_id').agg({'sales':'max'}).show() \n",
        "sdf.groupBy('store_id').agg({'sales':'avg'}).show()   "
      ],
      "metadata": {
        "colab": {
          "base_uri": "https://localhost:8080/"
        },
        "id": "LpQfHPBOsY48",
        "outputId": "ef20cb63-d064-4e65-a1e9-f21d1437dee0"
      },
      "execution_count": 16,
      "outputs": [
        {
          "output_type": "stream",
          "name": "stdout",
          "text": [
            "+--------+------------------+\n",
            "|store_id|        avg(sales)|\n",
            "+--------+------------------+\n",
            "|      26|       305669.9514|\n",
            "|      29|       338411.9494|\n",
            "|      31| 959061.0493039999|\n",
            "|      25| 848894.8963600001|\n",
            "|      41| 280630.8034440001|\n",
            "|      28|     723741.027688|\n",
            "|      44|     165406.509478|\n",
            "|      35|      291853.15194|\n",
            "|      38|    254870.8931444|\n",
            "|      30|302259.98714599997|\n",
            "+--------+------------------+\n",
            "\n"
          ]
        }
      ]
    },
    {
      "cell_type": "code",
      "source": [
        "sdf_1 = sdf.withColumn('Sales_100',sdf['sales'] +100).show()"
      ],
      "metadata": {
        "colab": {
          "base_uri": "https://localhost:8080/"
        },
        "id": "hsBDcM4Bwkoa",
        "outputId": "8836ed7f-1038-4e83-b95a-77a8a8eb674f"
      },
      "execution_count": 17,
      "outputs": [
        {
          "output_type": "stream",
          "name": "stdout",
          "text": [
            "+---------+--------+-----------+-----------+\n",
            "|     date|store_id|      sales|  Sales_100|\n",
            "+---------+--------+-----------+-----------+\n",
            "| 1/6/2019|      25|736657.2267|736757.2267|\n",
            "| 1/6/2019|      26|   233711.0|   233811.0|\n",
            "| 1/6/2019|      28|692156.3794|692256.3794|\n",
            "| 1/6/2019|      29|   213706.8|   213806.8|\n",
            "| 1/6/2019|      30|   266455.0|   266555.0|\n",
            "| 1/6/2019|      31|837342.8156|837442.8156|\n",
            "| 1/6/2019|      35|   201013.6|   201113.6|\n",
            "| 1/6/2019|      38|  242397.03|  242497.03|\n",
            "| 1/6/2019|      41|   244189.4|   244289.4|\n",
            "| 1/6/2019|      44|   164553.5|   164653.5|\n",
            "|1/13/2019|      25|696457.1717|696557.1717|\n",
            "|1/13/2019|      26|  261136.45|  261236.45|\n",
            "|1/13/2019|      28|  787359.03|  787459.03|\n",
            "|1/13/2019|      29|   279218.0|   279318.0|\n",
            "|1/13/2019|      30|  252519.59|  252619.59|\n",
            "|1/13/2019|      31|836604.5717|836704.5717|\n",
            "|1/13/2019|      35| 277550.185| 277650.185|\n",
            "|1/13/2019|      38| 215895.275| 215995.275|\n",
            "|1/13/2019|      41|   231992.5|   232092.5|\n",
            "|1/13/2019|      44|   134188.0|   134288.0|\n",
            "+---------+--------+-----------+-----------+\n",
            "only showing top 20 rows\n",
            "\n"
          ]
        }
      ]
    },
    {
      "cell_type": "code",
      "source": [
        "sdf_2 = sdf.drop('Sales_100').show()"
      ],
      "metadata": {
        "colab": {
          "base_uri": "https://localhost:8080/"
        },
        "id": "HBxLftdDwkre",
        "outputId": "77e11f4d-f48c-42e4-d8e7-d9d038235e3f"
      },
      "execution_count": 18,
      "outputs": [
        {
          "output_type": "stream",
          "name": "stdout",
          "text": [
            "+---------+--------+-----------+\n",
            "|     date|store_id|      sales|\n",
            "+---------+--------+-----------+\n",
            "| 1/6/2019|      25|736657.2267|\n",
            "| 1/6/2019|      26|   233711.0|\n",
            "| 1/6/2019|      28|692156.3794|\n",
            "| 1/6/2019|      29|   213706.8|\n",
            "| 1/6/2019|      30|   266455.0|\n",
            "| 1/6/2019|      31|837342.8156|\n",
            "| 1/6/2019|      35|   201013.6|\n",
            "| 1/6/2019|      38|  242397.03|\n",
            "| 1/6/2019|      41|   244189.4|\n",
            "| 1/6/2019|      44|   164553.5|\n",
            "|1/13/2019|      25|696457.1717|\n",
            "|1/13/2019|      26|  261136.45|\n",
            "|1/13/2019|      28|  787359.03|\n",
            "|1/13/2019|      29|   279218.0|\n",
            "|1/13/2019|      30|  252519.59|\n",
            "|1/13/2019|      31|836604.5717|\n",
            "|1/13/2019|      35| 277550.185|\n",
            "|1/13/2019|      38| 215895.275|\n",
            "|1/13/2019|      41|   231992.5|\n",
            "|1/13/2019|      44|   134188.0|\n",
            "+---------+--------+-----------+\n",
            "only showing top 20 rows\n",
            "\n"
          ]
        }
      ]
    },
    {
      "cell_type": "code",
      "source": [
        "# sdf.na.drop().show()\n",
        "#sdf.na.drop(how = 'any',thresh =2).show()#how = 'all'\n",
        "sdf.na.drop(how = 'any',subset=['sales']).show()#how = 'all'"
      ],
      "metadata": {
        "id": "HgkLrQDbwk0W",
        "colab": {
          "base_uri": "https://localhost:8080/"
        },
        "outputId": "b1aa1df1-5f60-4dda-9d24-6bd2251393ef"
      },
      "execution_count": 19,
      "outputs": [
        {
          "output_type": "stream",
          "name": "stdout",
          "text": [
            "+---------+--------+-----------+\n",
            "|     date|store_id|      sales|\n",
            "+---------+--------+-----------+\n",
            "| 1/6/2019|      25|736657.2267|\n",
            "| 1/6/2019|      26|   233711.0|\n",
            "| 1/6/2019|      28|692156.3794|\n",
            "| 1/6/2019|      29|   213706.8|\n",
            "| 1/6/2019|      30|   266455.0|\n",
            "| 1/6/2019|      31|837342.8156|\n",
            "| 1/6/2019|      35|   201013.6|\n",
            "| 1/6/2019|      38|  242397.03|\n",
            "| 1/6/2019|      41|   244189.4|\n",
            "| 1/6/2019|      44|   164553.5|\n",
            "|1/13/2019|      25|696457.1717|\n",
            "|1/13/2019|      26|  261136.45|\n",
            "|1/13/2019|      28|  787359.03|\n",
            "|1/13/2019|      29|   279218.0|\n",
            "|1/13/2019|      30|  252519.59|\n",
            "|1/13/2019|      31|836604.5717|\n",
            "|1/13/2019|      35| 277550.185|\n",
            "|1/13/2019|      38| 215895.275|\n",
            "|1/13/2019|      41|   231992.5|\n",
            "|1/13/2019|      44|   134188.0|\n",
            "+---------+--------+-----------+\n",
            "only showing top 20 rows\n",
            "\n"
          ]
        }
      ]
    },
    {
      "cell_type": "code",
      "source": [
        "sdf.na.fill('Missing value',['sales']).show()"
      ],
      "metadata": {
        "colab": {
          "base_uri": "https://localhost:8080/"
        },
        "id": "5nHV4FxF-gA_",
        "outputId": "2a88757f-1932-4593-a0b7-9e6c1e374eda"
      },
      "execution_count": 20,
      "outputs": [
        {
          "output_type": "stream",
          "name": "stdout",
          "text": [
            "+---------+--------+-----------+\n",
            "|     date|store_id|      sales|\n",
            "+---------+--------+-----------+\n",
            "| 1/6/2019|      25|736657.2267|\n",
            "| 1/6/2019|      26|   233711.0|\n",
            "| 1/6/2019|      28|692156.3794|\n",
            "| 1/6/2019|      29|   213706.8|\n",
            "| 1/6/2019|      30|   266455.0|\n",
            "| 1/6/2019|      31|837342.8156|\n",
            "| 1/6/2019|      35|   201013.6|\n",
            "| 1/6/2019|      38|  242397.03|\n",
            "| 1/6/2019|      41|   244189.4|\n",
            "| 1/6/2019|      44|   164553.5|\n",
            "|1/13/2019|      25|696457.1717|\n",
            "|1/13/2019|      26|  261136.45|\n",
            "|1/13/2019|      28|  787359.03|\n",
            "|1/13/2019|      29|   279218.0|\n",
            "|1/13/2019|      30|  252519.59|\n",
            "|1/13/2019|      31|836604.5717|\n",
            "|1/13/2019|      35| 277550.185|\n",
            "|1/13/2019|      38| 215895.275|\n",
            "|1/13/2019|      41|   231992.5|\n",
            "|1/13/2019|      44|   134188.0|\n",
            "+---------+--------+-----------+\n",
            "only showing top 20 rows\n",
            "\n"
          ]
        }
      ]
    },
    {
      "cell_type": "code",
      "source": [
        "from pyspark.ml.feature import Imputer\n",
        "imputer = Imputer(inputCols = ['sales'], outputCols = ['{}_imputed'.format(c) for c in ['sales']]).setStrategy('mean')\n",
        "imputer.fit(sdf).transform(sdf).show()"
      ],
      "metadata": {
        "id": "oELM7H9qwk3h",
        "colab": {
          "base_uri": "https://localhost:8080/"
        },
        "outputId": "18d7b167-0506-40cc-f3d8-71286a354504"
      },
      "execution_count": 21,
      "outputs": [
        {
          "output_type": "stream",
          "name": "stdout",
          "text": [
            "+---------+--------+-----------+-------------+\n",
            "|     date|store_id|      sales|sales_imputed|\n",
            "+---------+--------+-----------+-------------+\n",
            "| 1/6/2019|      25|736657.2267|  736657.2267|\n",
            "| 1/6/2019|      26|   233711.0|     233711.0|\n",
            "| 1/6/2019|      28|692156.3794|  692156.3794|\n",
            "| 1/6/2019|      29|   213706.8|     213706.8|\n",
            "| 1/6/2019|      30|   266455.0|     266455.0|\n",
            "| 1/6/2019|      31|837342.8156|  837342.8156|\n",
            "| 1/6/2019|      35|   201013.6|     201013.6|\n",
            "| 1/6/2019|      38|  242397.03|    242397.03|\n",
            "| 1/6/2019|      41|   244189.4|     244189.4|\n",
            "| 1/6/2019|      44|   164553.5|     164553.5|\n",
            "|1/13/2019|      25|696457.1717|  696457.1717|\n",
            "|1/13/2019|      26|  261136.45|    261136.45|\n",
            "|1/13/2019|      28|  787359.03|    787359.03|\n",
            "|1/13/2019|      29|   279218.0|     279218.0|\n",
            "|1/13/2019|      30|  252519.59|    252519.59|\n",
            "|1/13/2019|      31|836604.5717|  836604.5717|\n",
            "|1/13/2019|      35| 277550.185|   277550.185|\n",
            "|1/13/2019|      38| 215895.275|   215895.275|\n",
            "|1/13/2019|      41|   231992.5|     231992.5|\n",
            "|1/13/2019|      44|   134188.0|     134188.0|\n",
            "+---------+--------+-----------+-------------+\n",
            "only showing top 20 rows\n",
            "\n"
          ]
        }
      ]
    },
    {
      "cell_type": "code",
      "source": [
        "#Assign new Column instance.\n",
        "sdf.withColumnRenamed('sales','Renamed_sales').show()"
      ],
      "metadata": {
        "colab": {
          "base_uri": "https://localhost:8080/"
        },
        "id": "oELl7CCEwkuh",
        "outputId": "325b5a73-674b-4beb-e499-b629f7e2eee4"
      },
      "execution_count": 22,
      "outputs": [
        {
          "output_type": "stream",
          "name": "stdout",
          "text": [
            "+---------+--------+-------------+\n",
            "|     date|store_id|Renamed_sales|\n",
            "+---------+--------+-------------+\n",
            "| 1/6/2019|      25|  736657.2267|\n",
            "| 1/6/2019|      26|     233711.0|\n",
            "| 1/6/2019|      28|  692156.3794|\n",
            "| 1/6/2019|      29|     213706.8|\n",
            "| 1/6/2019|      30|     266455.0|\n",
            "| 1/6/2019|      31|  837342.8156|\n",
            "| 1/6/2019|      35|     201013.6|\n",
            "| 1/6/2019|      38|    242397.03|\n",
            "| 1/6/2019|      41|     244189.4|\n",
            "| 1/6/2019|      44|     164553.5|\n",
            "|1/13/2019|      25|  696457.1717|\n",
            "|1/13/2019|      26|    261136.45|\n",
            "|1/13/2019|      28|    787359.03|\n",
            "|1/13/2019|      29|     279218.0|\n",
            "|1/13/2019|      30|    252519.59|\n",
            "|1/13/2019|      31|  836604.5717|\n",
            "|1/13/2019|      35|   277550.185|\n",
            "|1/13/2019|      38|   215895.275|\n",
            "|1/13/2019|      41|     231992.5|\n",
            "|1/13/2019|      44|     134188.0|\n",
            "+---------+--------+-------------+\n",
            "only showing top 20 rows\n",
            "\n"
          ]
        }
      ]
    },
    {
      "cell_type": "code",
      "source": [
        "#filter: To select a subset of rows, use DataFrame.filter().\n",
        "#sdf.filter('sales<50000').show()\n",
        "sdf.filter(sdf['sales']<50000).show()"
      ],
      "metadata": {
        "id": "MRPlO1eqwk-W",
        "colab": {
          "base_uri": "https://localhost:8080/"
        },
        "outputId": "39277c3c-f9ae-4aa5-c642-d2a5f4cfeb6e"
      },
      "execution_count": 23,
      "outputs": [
        {
          "output_type": "stream",
          "name": "stdout",
          "text": [
            "+----------+--------+-----------+\n",
            "|      date|store_id|      sales|\n",
            "+----------+--------+-----------+\n",
            "|11/17/2019|      38|    22432.0|\n",
            "|11/17/2019|      44|    12788.0|\n",
            "|11/24/2019|      38|38003.04762|\n",
            "|11/24/2019|      44|    35632.0|\n",
            "+----------+--------+-----------+\n",
            "\n"
          ]
        }
      ]
    },
    {
      "cell_type": "code",
      "source": [
        "sdf.filter(~(sdf['sales']<50000)).show()"
      ],
      "metadata": {
        "id": "2vXCk3MmwlEv",
        "colab": {
          "base_uri": "https://localhost:8080/"
        },
        "outputId": "11c6bdc3-072f-47b2-b9ef-d1a7c038d958"
      },
      "execution_count": 24,
      "outputs": [
        {
          "output_type": "stream",
          "name": "stdout",
          "text": [
            "+---------+--------+-----------+\n",
            "|     date|store_id|      sales|\n",
            "+---------+--------+-----------+\n",
            "| 1/6/2019|      25|736657.2267|\n",
            "| 1/6/2019|      26|   233711.0|\n",
            "| 1/6/2019|      28|692156.3794|\n",
            "| 1/6/2019|      29|   213706.8|\n",
            "| 1/6/2019|      30|   266455.0|\n",
            "| 1/6/2019|      31|837342.8156|\n",
            "| 1/6/2019|      35|   201013.6|\n",
            "| 1/6/2019|      38|  242397.03|\n",
            "| 1/6/2019|      41|   244189.4|\n",
            "| 1/6/2019|      44|   164553.5|\n",
            "|1/13/2019|      25|696457.1717|\n",
            "|1/13/2019|      26|  261136.45|\n",
            "|1/13/2019|      28|  787359.03|\n",
            "|1/13/2019|      29|   279218.0|\n",
            "|1/13/2019|      30|  252519.59|\n",
            "|1/13/2019|      31|836604.5717|\n",
            "|1/13/2019|      35| 277550.185|\n",
            "|1/13/2019|      38| 215895.275|\n",
            "|1/13/2019|      41|   231992.5|\n",
            "|1/13/2019|      44|   134188.0|\n",
            "+---------+--------+-----------+\n",
            "only showing top 20 rows\n",
            "\n"
          ]
        }
      ]
    },
    {
      "cell_type": "code",
      "source": [],
      "metadata": {
        "id": "QKix1Ob_2M3M"
      },
      "execution_count": 24,
      "outputs": []
    },
    {
      "cell_type": "markdown",
      "source": [
        "# 2. Machine Learning"
      ],
      "metadata": {
        "id": "LxakwmlS7teU"
      }
    },
    {
      "cell_type": "code",
      "source": [],
      "metadata": {
        "id": "MQOwiHXQ2M7K"
      },
      "execution_count": 24,
      "outputs": []
    },
    {
      "cell_type": "markdown",
      "source": [
        "MLlib\n",
        "\n",
        "Built on top of Spark, MLlib is a scalable machine learning library that provides a uniform set of high-level APIs that help users create and tune practical machine learning pipelines."
      ],
      "metadata": {
        "id": "pCX0NmEZb-Tf"
      }
    },
    {
      "cell_type": "code",
      "source": [
        "##ML: Ref: https://www.youtube.com/watch?v=_C8kWso4ne4\n",
        "from pyspark.ml.feature import VectorAssembler\n",
        "featureassembler=VectorAssembler(inputCols=[\"store_id\"],outputCol=\"Independent Features\")"
      ],
      "metadata": {
        "id": "u46sRWrnzHuK"
      },
      "execution_count": 25,
      "outputs": []
    },
    {
      "cell_type": "code",
      "source": [
        "output=featureassembler.transform(sdf)\n",
        "output.show()"
      ],
      "metadata": {
        "colab": {
          "base_uri": "https://localhost:8080/"
        },
        "id": "IUOnlOmvzlxR",
        "outputId": "ae4940ba-aba9-492d-9f6d-88f77d8c6db0"
      },
      "execution_count": 26,
      "outputs": [
        {
          "output_type": "stream",
          "name": "stdout",
          "text": [
            "+---------+--------+-----------+--------------------+\n",
            "|     date|store_id|      sales|Independent Features|\n",
            "+---------+--------+-----------+--------------------+\n",
            "| 1/6/2019|      25|736657.2267|              [25.0]|\n",
            "| 1/6/2019|      26|   233711.0|              [26.0]|\n",
            "| 1/6/2019|      28|692156.3794|              [28.0]|\n",
            "| 1/6/2019|      29|   213706.8|              [29.0]|\n",
            "| 1/6/2019|      30|   266455.0|              [30.0]|\n",
            "| 1/6/2019|      31|837342.8156|              [31.0]|\n",
            "| 1/6/2019|      35|   201013.6|              [35.0]|\n",
            "| 1/6/2019|      38|  242397.03|              [38.0]|\n",
            "| 1/6/2019|      41|   244189.4|              [41.0]|\n",
            "| 1/6/2019|      44|   164553.5|              [44.0]|\n",
            "|1/13/2019|      25|696457.1717|              [25.0]|\n",
            "|1/13/2019|      26|  261136.45|              [26.0]|\n",
            "|1/13/2019|      28|  787359.03|              [28.0]|\n",
            "|1/13/2019|      29|   279218.0|              [29.0]|\n",
            "|1/13/2019|      30|  252519.59|              [30.0]|\n",
            "|1/13/2019|      31|836604.5717|              [31.0]|\n",
            "|1/13/2019|      35| 277550.185|              [35.0]|\n",
            "|1/13/2019|      38| 215895.275|              [38.0]|\n",
            "|1/13/2019|      41|   231992.5|              [41.0]|\n",
            "|1/13/2019|      44|   134188.0|              [44.0]|\n",
            "+---------+--------+-----------+--------------------+\n",
            "only showing top 20 rows\n",
            "\n"
          ]
        }
      ]
    },
    {
      "cell_type": "code",
      "source": [
        "finalized_data=output.select(\"Independent Features\",\"sales\")\n",
        "finalized_data.show()"
      ],
      "metadata": {
        "colab": {
          "base_uri": "https://localhost:8080/"
        },
        "id": "U5JE9XH4rkLJ",
        "outputId": "0cfd1c90-4c51-4c7c-c9e5-e5e2875c6461"
      },
      "execution_count": 27,
      "outputs": [
        {
          "output_type": "stream",
          "name": "stdout",
          "text": [
            "+--------------------+-----------+\n",
            "|Independent Features|      sales|\n",
            "+--------------------+-----------+\n",
            "|              [25.0]|736657.2267|\n",
            "|              [26.0]|   233711.0|\n",
            "|              [28.0]|692156.3794|\n",
            "|              [29.0]|   213706.8|\n",
            "|              [30.0]|   266455.0|\n",
            "|              [31.0]|837342.8156|\n",
            "|              [35.0]|   201013.6|\n",
            "|              [38.0]|  242397.03|\n",
            "|              [41.0]|   244189.4|\n",
            "|              [44.0]|   164553.5|\n",
            "|              [25.0]|696457.1717|\n",
            "|              [26.0]|  261136.45|\n",
            "|              [28.0]|  787359.03|\n",
            "|              [29.0]|   279218.0|\n",
            "|              [30.0]|  252519.59|\n",
            "|              [31.0]|836604.5717|\n",
            "|              [35.0]| 277550.185|\n",
            "|              [38.0]| 215895.275|\n",
            "|              [41.0]|   231992.5|\n",
            "|              [44.0]|   134188.0|\n",
            "+--------------------+-----------+\n",
            "only showing top 20 rows\n",
            "\n"
          ]
        }
      ]
    },
    {
      "cell_type": "code",
      "source": [
        "from pyspark.ml.regression import LinearRegression\n",
        "##train test split\n",
        "train_data,test_data=finalized_data.randomSplit([0.75,0.25])\n",
        "regressor=LinearRegression(featuresCol='Independent Features', labelCol='sales')\n",
        "regressor=regressor.fit(train_data)"
      ],
      "metadata": {
        "id": "ufhlxH00wlIG"
      },
      "execution_count": 28,
      "outputs": []
    },
    {
      "cell_type": "code",
      "source": [
        "### Coefficients\n",
        "regressor.coefficients"
      ],
      "metadata": {
        "colab": {
          "base_uri": "https://localhost:8080/"
        },
        "id": "kRCjPPDorkOS",
        "outputId": "57a32165-152a-4272-cdfc-153b1f7474da"
      },
      "execution_count": 29,
      "outputs": [
        {
          "output_type": "execute_result",
          "data": {
            "text/plain": [
              "DenseVector([-24049.6165])"
            ]
          },
          "metadata": {},
          "execution_count": 29
        }
      ]
    },
    {
      "cell_type": "code",
      "source": [
        "### Intercepts\n",
        "regressor.intercept"
      ],
      "metadata": {
        "colab": {
          "base_uri": "https://localhost:8080/"
        },
        "id": "jK6GnIM0rkRn",
        "outputId": "881585b6-9368-4186-c5b7-f614f1863621"
      },
      "execution_count": 30,
      "outputs": [
        {
          "output_type": "execute_result",
          "data": {
            "text/plain": [
              "1234675.676980802"
            ]
          },
          "metadata": {},
          "execution_count": 30
        }
      ]
    },
    {
      "cell_type": "code",
      "source": [
        "### Prediction\n",
        "pred_results=regressor.evaluate(test_data)"
      ],
      "metadata": {
        "id": "tR2tjgSNrkUT"
      },
      "execution_count": 31,
      "outputs": []
    },
    {
      "cell_type": "code",
      "source": [
        "\n",
        "pred_results.predictions.show()"
      ],
      "metadata": {
        "id": "LqQ77vBGwlLs",
        "colab": {
          "base_uri": "https://localhost:8080/"
        },
        "outputId": "b033dd48-d1e7-4a10-e2f2-a37dcf9f7217"
      },
      "execution_count": 32,
      "outputs": [
        {
          "output_type": "stream",
          "name": "stdout",
          "text": [
            "+--------------------+-----------+-----------------+\n",
            "|Independent Features|      sales|       prediction|\n",
            "+--------------------+-----------+-----------------+\n",
            "|              [25.0]|376708.0633|633435.2642422601|\n",
            "|              [25.0]|747920.9824|633435.2642422601|\n",
            "|              [25.0]|806767.5946|633435.2642422601|\n",
            "|              [25.0]|866777.1362|633435.2642422601|\n",
            "|              [25.0]| 896989.192|633435.2642422601|\n",
            "|              [25.0]|1038662.264|633435.2642422601|\n",
            "|              [25.0]|1050468.773|633435.2642422601|\n",
            "|              [25.0]|1069857.589|633435.2642422601|\n",
            "|              [25.0]| 1088756.78|633435.2642422601|\n",
            "|              [25.0]|1266928.313|633435.2642422601|\n",
            "|              [26.0]|  102190.65|609385.6477327185|\n",
            "|              [26.0]|  253251.22|609385.6477327185|\n",
            "|              [26.0]|  258176.05|609385.6477327185|\n",
            "|              [26.0]| 286853.876|609385.6477327185|\n",
            "|              [26.0]|287933.0517|609385.6477327185|\n",
            "|              [26.0]|307247.7399|609385.6477327185|\n",
            "|              [26.0]|328452.9021|609385.6477327185|\n",
            "|              [26.0]|335058.1583|609385.6477327185|\n",
            "|              [26.0]|364173.4133|609385.6477327185|\n",
            "|              [26.0]|383455.9048|609385.6477327185|\n",
            "+--------------------+-----------+-----------------+\n",
            "only showing top 20 rows\n",
            "\n"
          ]
        }
      ]
    },
    {
      "cell_type": "code",
      "source": [
        "#performance Metric\n",
        "pred_results.r2,pred_results.meanAbsoluteError,pred_results.meanSquaredError"
      ],
      "metadata": {
        "id": "nzYIzhvXUH8O",
        "colab": {
          "base_uri": "https://localhost:8080/"
        },
        "outputId": "3486232d-1a5c-49de-dff4-4c58568326cf"
      },
      "execution_count": 33,
      "outputs": [
        {
          "output_type": "execute_result",
          "data": {
            "text/plain": [
              "(0.30057723776613265, 184473.05308727454, 61442741197.01994)"
            ]
          },
          "metadata": {},
          "execution_count": 33
        }
      ]
    },
    {
      "cell_type": "code",
      "source": [
        "sdf.show()"
      ],
      "metadata": {
        "id": "IT-N6HdARn1B",
        "colab": {
          "base_uri": "https://localhost:8080/"
        },
        "outputId": "839d2c0e-b913-486b-9252-e028fc5610e2"
      },
      "execution_count": 34,
      "outputs": [
        {
          "output_type": "stream",
          "name": "stdout",
          "text": [
            "+---------+--------+-----------+\n",
            "|     date|store_id|      sales|\n",
            "+---------+--------+-----------+\n",
            "| 1/6/2019|      25|736657.2267|\n",
            "| 1/6/2019|      26|   233711.0|\n",
            "| 1/6/2019|      28|692156.3794|\n",
            "| 1/6/2019|      29|   213706.8|\n",
            "| 1/6/2019|      30|   266455.0|\n",
            "| 1/6/2019|      31|837342.8156|\n",
            "| 1/6/2019|      35|   201013.6|\n",
            "| 1/6/2019|      38|  242397.03|\n",
            "| 1/6/2019|      41|   244189.4|\n",
            "| 1/6/2019|      44|   164553.5|\n",
            "|1/13/2019|      25|696457.1717|\n",
            "|1/13/2019|      26|  261136.45|\n",
            "|1/13/2019|      28|  787359.03|\n",
            "|1/13/2019|      29|   279218.0|\n",
            "|1/13/2019|      30|  252519.59|\n",
            "|1/13/2019|      31|836604.5717|\n",
            "|1/13/2019|      35| 277550.185|\n",
            "|1/13/2019|      38| 215895.275|\n",
            "|1/13/2019|      41|   231992.5|\n",
            "|1/13/2019|      44|   134188.0|\n",
            "+---------+--------+-----------+\n",
            "only showing top 20 rows\n",
            "\n"
          ]
        }
      ]
    },
    {
      "cell_type": "markdown",
      "source": [
        "# 3. Prediction"
      ],
      "metadata": {
        "id": "cK0FN69b7y_8"
      }
    },
    {
      "cell_type": "code",
      "source": [
        "!pip install pystan==2.19.1.1 prophet\n",
        "!pip install fbprophet\n",
        "from fbprophet import Prophet"
      ],
      "metadata": {
        "colab": {
          "base_uri": "https://localhost:8080/"
        },
        "id": "w7cweEyO2Boy",
        "outputId": "8ad6c201-f336-4299-cbf0-05f07fad91ff"
      },
      "execution_count": 35,
      "outputs": [
        {
          "output_type": "stream",
          "name": "stdout",
          "text": [
            "Looking in indexes: https://pypi.org/simple, https://us-python.pkg.dev/colab-wheels/public/simple/\n",
            "Requirement already satisfied: pystan==2.19.1.1 in /usr/local/lib/python3.8/dist-packages (2.19.1.1)\n",
            "Requirement already satisfied: prophet in /usr/local/lib/python3.8/dist-packages (1.1.1)\n",
            "Requirement already satisfied: Cython!=0.25.1,>=0.22 in /usr/local/lib/python3.8/dist-packages (from pystan==2.19.1.1) (0.29.32)\n",
            "Requirement already satisfied: numpy>=1.7 in /usr/local/lib/python3.8/dist-packages (from pystan==2.19.1.1) (1.21.6)\n",
            "Requirement already satisfied: python-dateutil>=2.8.0 in /usr/local/lib/python3.8/dist-packages (from prophet) (2.8.2)\n",
            "Requirement already satisfied: wheel>=0.37.0 in /usr/local/lib/python3.8/dist-packages (from prophet) (0.38.4)\n",
            "Requirement already satisfied: holidays>=0.14.2 in /usr/local/lib/python3.8/dist-packages (from prophet) (0.17.2)\n",
            "Collecting cmdstanpy>=1.0.4\n",
            "  Using cached cmdstanpy-1.0.8-py3-none-any.whl (81 kB)\n",
            "Requirement already satisfied: pandas>=1.0.4 in /usr/local/lib/python3.8/dist-packages (from prophet) (1.3.5)\n",
            "Requirement already satisfied: convertdate>=2.1.2 in /usr/local/lib/python3.8/dist-packages (from prophet) (2.4.0)\n",
            "Requirement already satisfied: tqdm>=4.36.1 in /usr/local/lib/python3.8/dist-packages (from prophet) (4.64.1)\n",
            "Requirement already satisfied: setuptools-git>=1.2 in /usr/local/lib/python3.8/dist-packages (from prophet) (1.2)\n",
            "Requirement already satisfied: setuptools>=42 in /usr/local/lib/python3.8/dist-packages (from prophet) (57.4.0)\n",
            "Requirement already satisfied: matplotlib>=2.0.0 in /usr/local/lib/python3.8/dist-packages (from prophet) (3.2.2)\n",
            "Requirement already satisfied: LunarCalendar>=0.0.9 in /usr/local/lib/python3.8/dist-packages (from prophet) (0.0.9)\n",
            "Requirement already satisfied: pymeeus<=1,>=0.3.13 in /usr/local/lib/python3.8/dist-packages (from convertdate>=2.1.2->prophet) (0.5.12)\n",
            "Requirement already satisfied: korean-lunar-calendar in /usr/local/lib/python3.8/dist-packages (from holidays>=0.14.2->prophet) (0.3.1)\n",
            "Requirement already satisfied: hijri-converter in /usr/local/lib/python3.8/dist-packages (from holidays>=0.14.2->prophet) (2.2.4)\n",
            "Requirement already satisfied: pytz in /usr/local/lib/python3.8/dist-packages (from LunarCalendar>=0.0.9->prophet) (2022.6)\n",
            "Requirement already satisfied: ephem>=3.7.5.3 in /usr/local/lib/python3.8/dist-packages (from LunarCalendar>=0.0.9->prophet) (4.1.3)\n",
            "Requirement already satisfied: cycler>=0.10 in /usr/local/lib/python3.8/dist-packages (from matplotlib>=2.0.0->prophet) (0.11.0)\n",
            "Requirement already satisfied: kiwisolver>=1.0.1 in /usr/local/lib/python3.8/dist-packages (from matplotlib>=2.0.0->prophet) (1.4.4)\n",
            "Requirement already satisfied: pyparsing!=2.0.4,!=2.1.2,!=2.1.6,>=2.0.1 in /usr/local/lib/python3.8/dist-packages (from matplotlib>=2.0.0->prophet) (3.0.9)\n",
            "Requirement already satisfied: six>=1.5 in /usr/local/lib/python3.8/dist-packages (from python-dateutil>=2.8.0->prophet) (1.15.0)\n",
            "Installing collected packages: cmdstanpy\n",
            "  Attempting uninstall: cmdstanpy\n",
            "    Found existing installation: cmdstanpy 0.9.5\n",
            "    Uninstalling cmdstanpy-0.9.5:\n",
            "      Successfully uninstalled cmdstanpy-0.9.5\n",
            "\u001b[31mERROR: pip's dependency resolver does not currently take into account all the packages that are installed. This behaviour is the source of the following dependency conflicts.\n",
            "fbprophet 0.7.1 requires cmdstanpy==0.9.5, but you have cmdstanpy 1.0.8 which is incompatible.\u001b[0m\n",
            "Successfully installed cmdstanpy-1.0.8\n",
            "Looking in indexes: https://pypi.org/simple, https://us-python.pkg.dev/colab-wheels/public/simple/\n",
            "Requirement already satisfied: fbprophet in /usr/local/lib/python3.8/dist-packages (0.7.1)\n",
            "Requirement already satisfied: numpy>=1.15.4 in /usr/local/lib/python3.8/dist-packages (from fbprophet) (1.21.6)\n",
            "Requirement already satisfied: LunarCalendar>=0.0.9 in /usr/local/lib/python3.8/dist-packages (from fbprophet) (0.0.9)\n",
            "Requirement already satisfied: Cython>=0.22 in /usr/local/lib/python3.8/dist-packages (from fbprophet) (0.29.32)\n",
            "Requirement already satisfied: convertdate>=2.1.2 in /usr/local/lib/python3.8/dist-packages (from fbprophet) (2.4.0)\n",
            "Requirement already satisfied: setuptools-git>=1.2 in /usr/local/lib/python3.8/dist-packages (from fbprophet) (1.2)\n",
            "Requirement already satisfied: python-dateutil>=2.8.0 in /usr/local/lib/python3.8/dist-packages (from fbprophet) (2.8.2)\n",
            "Requirement already satisfied: pandas>=1.0.4 in /usr/local/lib/python3.8/dist-packages (from fbprophet) (1.3.5)\n",
            "Requirement already satisfied: pystan>=2.14 in /usr/local/lib/python3.8/dist-packages (from fbprophet) (2.19.1.1)\n",
            "Requirement already satisfied: tqdm>=4.36.1 in /usr/local/lib/python3.8/dist-packages (from fbprophet) (4.64.1)\n",
            "Collecting cmdstanpy==0.9.5\n",
            "  Using cached cmdstanpy-0.9.5-py3-none-any.whl (37 kB)\n",
            "Requirement already satisfied: holidays>=0.10.2 in /usr/local/lib/python3.8/dist-packages (from fbprophet) (0.17.2)\n",
            "Requirement already satisfied: matplotlib>=2.0.0 in /usr/local/lib/python3.8/dist-packages (from fbprophet) (3.2.2)\n",
            "Requirement already satisfied: pymeeus<=1,>=0.3.13 in /usr/local/lib/python3.8/dist-packages (from convertdate>=2.1.2->fbprophet) (0.5.12)\n",
            "Requirement already satisfied: korean-lunar-calendar in /usr/local/lib/python3.8/dist-packages (from holidays>=0.10.2->fbprophet) (0.3.1)\n",
            "Requirement already satisfied: hijri-converter in /usr/local/lib/python3.8/dist-packages (from holidays>=0.10.2->fbprophet) (2.2.4)\n",
            "Requirement already satisfied: pytz in /usr/local/lib/python3.8/dist-packages (from LunarCalendar>=0.0.9->fbprophet) (2022.6)\n",
            "Requirement already satisfied: ephem>=3.7.5.3 in /usr/local/lib/python3.8/dist-packages (from LunarCalendar>=0.0.9->fbprophet) (4.1.3)\n",
            "Requirement already satisfied: cycler>=0.10 in /usr/local/lib/python3.8/dist-packages (from matplotlib>=2.0.0->fbprophet) (0.11.0)\n",
            "Requirement already satisfied: kiwisolver>=1.0.1 in /usr/local/lib/python3.8/dist-packages (from matplotlib>=2.0.0->fbprophet) (1.4.4)\n",
            "Requirement already satisfied: pyparsing!=2.0.4,!=2.1.2,!=2.1.6,>=2.0.1 in /usr/local/lib/python3.8/dist-packages (from matplotlib>=2.0.0->fbprophet) (3.0.9)\n",
            "Requirement already satisfied: six>=1.5 in /usr/local/lib/python3.8/dist-packages (from python-dateutil>=2.8.0->fbprophet) (1.15.0)\n",
            "Installing collected packages: cmdstanpy\n",
            "  Attempting uninstall: cmdstanpy\n",
            "    Found existing installation: cmdstanpy 1.0.8\n",
            "    Uninstalling cmdstanpy-1.0.8:\n",
            "      Successfully uninstalled cmdstanpy-1.0.8\n",
            "\u001b[31mERROR: pip's dependency resolver does not currently take into account all the packages that are installed. This behaviour is the source of the following dependency conflicts.\n",
            "prophet 1.1.1 requires cmdstanpy>=1.0.4, but you have cmdstanpy 0.9.5 which is incompatible.\u001b[0m\n",
            "Successfully installed cmdstanpy-0.9.5\n"
          ]
        }
      ]
    },
    {
      "cell_type": "code",
      "source": [
        "df['date'] = pd.to_datetime(df['date'], infer_datetime_format=True)\n",
        "df.info()\n",
        "sdf = spark.createDataFrame(df)"
      ],
      "metadata": {
        "colab": {
          "base_uri": "https://localhost:8080/"
        },
        "id": "cm6DXkWoA4FE",
        "outputId": "b5b8d454-a5ea-4d8b-9482-b75aa86d91d6"
      },
      "execution_count": 36,
      "outputs": [
        {
          "output_type": "stream",
          "name": "stdout",
          "text": [
            "<class 'pandas.core.frame.DataFrame'>\n",
            "RangeIndex: 500 entries, 0 to 499\n",
            "Data columns (total 3 columns):\n",
            " #   Column    Non-Null Count  Dtype         \n",
            "---  ------    --------------  -----         \n",
            " 0   date      500 non-null    datetime64[ns]\n",
            " 1   store_id  500 non-null    int64         \n",
            " 2   sales     500 non-null    float64       \n",
            "dtypes: datetime64[ns](1), float64(1), int64(1)\n",
            "memory usage: 11.8 KB\n"
          ]
        }
      ]
    },
    {
      "cell_type": "code",
      "source": [
        "sdf.select(['store_id']).groupBy('store_id').agg({'store_id':'count'}).show()"
      ],
      "metadata": {
        "colab": {
          "base_uri": "https://localhost:8080/"
        },
        "id": "gRM4TFo5myG7",
        "outputId": "85470993-be8c-46ee-9247-49114e093d77"
      },
      "execution_count": 37,
      "outputs": [
        {
          "output_type": "stream",
          "name": "stdout",
          "text": [
            "+--------+---------------+\n",
            "|store_id|count(store_id)|\n",
            "+--------+---------------+\n",
            "|      26|             50|\n",
            "|      29|             50|\n",
            "|      31|             50|\n",
            "|      25|             50|\n",
            "|      41|             50|\n",
            "|      28|             50|\n",
            "|      44|             50|\n",
            "|      35|             50|\n",
            "|      38|             50|\n",
            "|      30|             50|\n",
            "+--------+---------------+\n",
            "\n"
          ]
        }
      ]
    },
    {
      "cell_type": "markdown",
      "source": [
        "DataFrame and Spark SQL share the same execution engine so they can be interchangeably used seamlessly. For example, you can register the DataFrame as a table and run a SQL easily as below:"
      ],
      "metadata": {
        "id": "psh4h8dra6hP"
      }
    },
    {
      "cell_type": "code",
      "source": [
        "sdf.createOrReplaceTempView(\"sales\")"
      ],
      "metadata": {
        "id": "G5ZQfFSImyKi"
      },
      "execution_count": 38,
      "outputs": []
    },
    {
      "cell_type": "code",
      "source": [
        "spark.sql(\"select store_id, count(*) from sales group by store_id order by store_id\").show()"
      ],
      "metadata": {
        "colab": {
          "base_uri": "https://localhost:8080/"
        },
        "id": "-c0OuwTamyNq",
        "outputId": "4f9812f5-6e64-47b8-8253-22c65a77645c"
      },
      "execution_count": 39,
      "outputs": [
        {
          "output_type": "stream",
          "name": "stdout",
          "text": [
            "+--------+--------+\n",
            "|store_id|count(1)|\n",
            "+--------+--------+\n",
            "|      25|      50|\n",
            "|      26|      50|\n",
            "|      28|      50|\n",
            "|      29|      50|\n",
            "|      30|      50|\n",
            "|      31|      50|\n",
            "|      35|      50|\n",
            "|      38|      50|\n",
            "|      41|      50|\n",
            "|      44|      50|\n",
            "+--------+--------+\n",
            "\n"
          ]
        }
      ]
    },
    {
      "cell_type": "code",
      "source": [
        "sql = 'SELECT store_id, date as ds, sum(sales) as y FROM sales GROUP BY store_id, ds ORDER BY store_id, ds'"
      ],
      "metadata": {
        "id": "SYcwQItEmyQy"
      },
      "execution_count": 40,
      "outputs": []
    },
    {
      "cell_type": "code",
      "source": [
        "spark.sql(sql).show()"
      ],
      "metadata": {
        "colab": {
          "base_uri": "https://localhost:8080/"
        },
        "id": "9Ukyhsz0myT6",
        "outputId": "865483cf-e1a7-4854-eef4-c89a0cccf01d"
      },
      "execution_count": 41,
      "outputs": [
        {
          "output_type": "stream",
          "name": "stdout",
          "text": [
            "+--------+-------------------+-----------+\n",
            "|store_id|                 ds|          y|\n",
            "+--------+-------------------+-----------+\n",
            "|      25|2019-01-06 00:00:00|736657.2267|\n",
            "|      25|2019-01-13 00:00:00|696457.1717|\n",
            "|      25|2019-01-20 00:00:00| 996876.875|\n",
            "|      25|2019-01-27 00:00:00| 1029737.05|\n",
            "|      25|2019-02-03 00:00:00|1072873.705|\n",
            "|      25|2019-02-10 00:00:00|880462.4681|\n",
            "|      25|2019-02-17 00:00:00| 1088756.78|\n",
            "|      25|2019-02-24 00:00:00|1266928.313|\n",
            "|      25|2019-03-03 00:00:00|907510.1217|\n",
            "|      25|2019-03-10 00:00:00|747920.9824|\n",
            "|      25|2019-03-17 00:00:00|904750.3158|\n",
            "|      25|2019-03-24 00:00:00|1069857.589|\n",
            "|      25|2019-03-31 00:00:00|1195574.314|\n",
            "|      25|2019-04-07 00:00:00|834911.3333|\n",
            "|      25|2019-04-14 00:00:00|788777.4167|\n",
            "|      25|2019-04-21 00:00:00|849603.4333|\n",
            "|      25|2019-04-28 00:00:00| 965521.165|\n",
            "|      25|2019-05-05 00:00:00|1045632.688|\n",
            "|      25|2019-05-12 00:00:00| 587768.245|\n",
            "|      25|2019-05-19 00:00:00|806767.5946|\n",
            "+--------+-------------------+-----------+\n",
            "only showing top 20 rows\n",
            "\n"
          ]
        }
      ]
    },
    {
      "cell_type": "markdown",
      "source": [
        "Spark Core\n",
        "\n",
        "Spark Core is the underlying general execution engine for the Spark platform that all other functionality is built on top of. It provides an RDD (Resilient Distributed Dataset) and in-memory computing capabilities"
      ],
      "metadata": {
        "id": "QSUSdqbqbvnQ"
      }
    },
    {
      "cell_type": "code",
      "source": [
        "sdf.explain()"
      ],
      "metadata": {
        "colab": {
          "base_uri": "https://localhost:8080/"
        },
        "id": "1DSqOX_bmyXO",
        "outputId": "61440dc5-f91f-47ee-ef7e-3726b4ad92ad"
      },
      "execution_count": 42,
      "outputs": [
        {
          "output_type": "stream",
          "name": "stdout",
          "text": [
            "== Physical Plan ==\n",
            "*(1) Scan ExistingRDD[date#527,store_id#528L,sales#529]\n",
            "\n",
            "\n"
          ]
        }
      ]
    },
    {
      "cell_type": "code",
      "source": [
        "sdf.rdd.getNumPartitions()"
      ],
      "metadata": {
        "colab": {
          "base_uri": "https://localhost:8080/"
        },
        "id": "xYlYiWnnmyaS",
        "outputId": "486c5d80-20cc-45a7-8175-b9a3fa3d7855"
      },
      "execution_count": 43,
      "outputs": [
        {
          "output_type": "execute_result",
          "data": {
            "text/plain": [
              "1"
            ]
          },
          "metadata": {},
          "execution_count": 43
        }
      ]
    },
    {
      "cell_type": "code",
      "source": [
        "store_part = (spark.sql( sql ).repartition(spark.sparkContext.defaultParallelism, ['store_id'])).cache()"
      ],
      "metadata": {
        "id": "G6iiXapkmydQ"
      },
      "execution_count": 44,
      "outputs": []
    },
    {
      "cell_type": "code",
      "source": [
        "store_part"
      ],
      "metadata": {
        "colab": {
          "base_uri": "https://localhost:8080/",
          "height": 520
        },
        "id": "lPmiMmKHmygG",
        "outputId": "78465adf-7791-4432-ac36-bd0eab08d0ff"
      },
      "execution_count": 45,
      "outputs": [
        {
          "output_type": "execute_result",
          "data": {
            "text/plain": [
              "+--------+-------------------+-----------+\n",
              "|store_id|                 ds|          y|\n",
              "+--------+-------------------+-----------+\n",
              "|      44|2019-01-13 00:00:00|   134188.0|\n",
              "|      35|2019-03-10 00:00:00|223781.2843|\n",
              "|      38|2019-03-17 00:00:00|243356.8275|\n",
              "|      28|2019-03-24 00:00:00| 753285.615|\n",
              "|      30|2019-08-11 00:00:00|311598.8317|\n",
              "|      31|2019-09-01 00:00:00|1134725.922|\n",
              "|      30|2019-04-07 00:00:00|  278018.18|\n",
              "|      30|2019-07-07 00:00:00| 359026.905|\n",
              "|      35|2019-09-08 00:00:00| 313785.185|\n",
              "|      44|2019-10-27 00:00:00|187488.6667|\n",
              "|      41|2019-03-31 00:00:00|217197.6667|\n",
              "|      35|2019-07-28 00:00:00|288892.2726|\n",
              "|      26|2019-08-04 00:00:00| 292046.285|\n",
              "|      29|2019-12-01 00:00:00|456406.4138|\n",
              "|      25|2019-10-20 00:00:00|  984872.55|\n",
              "|      44|2019-11-03 00:00:00|197624.5455|\n",
              "|      41|2019-12-01 00:00:00|342903.0392|\n",
              "|      28|2019-11-24 00:00:00|   765937.5|\n",
              "|      25|2019-12-08 00:00:00|914292.7833|\n",
              "|      28|2019-06-16 00:00:00|688221.2884|\n",
              "+--------+-------------------+-----------+\n",
              "only showing top 20 rows"
            ],
            "text/html": [
              "<table border='1'>\n",
              "<tr><th>store_id</th><th>ds</th><th>y</th></tr>\n",
              "<tr><td>44</td><td>2019-01-13 00:00:00</td><td>134188.0</td></tr>\n",
              "<tr><td>35</td><td>2019-03-10 00:00:00</td><td>223781.2843</td></tr>\n",
              "<tr><td>38</td><td>2019-03-17 00:00:00</td><td>243356.8275</td></tr>\n",
              "<tr><td>28</td><td>2019-03-24 00:00:00</td><td>753285.615</td></tr>\n",
              "<tr><td>30</td><td>2019-08-11 00:00:00</td><td>311598.8317</td></tr>\n",
              "<tr><td>31</td><td>2019-09-01 00:00:00</td><td>1134725.922</td></tr>\n",
              "<tr><td>30</td><td>2019-04-07 00:00:00</td><td>278018.18</td></tr>\n",
              "<tr><td>30</td><td>2019-07-07 00:00:00</td><td>359026.905</td></tr>\n",
              "<tr><td>35</td><td>2019-09-08 00:00:00</td><td>313785.185</td></tr>\n",
              "<tr><td>44</td><td>2019-10-27 00:00:00</td><td>187488.6667</td></tr>\n",
              "<tr><td>41</td><td>2019-03-31 00:00:00</td><td>217197.6667</td></tr>\n",
              "<tr><td>35</td><td>2019-07-28 00:00:00</td><td>288892.2726</td></tr>\n",
              "<tr><td>26</td><td>2019-08-04 00:00:00</td><td>292046.285</td></tr>\n",
              "<tr><td>29</td><td>2019-12-01 00:00:00</td><td>456406.4138</td></tr>\n",
              "<tr><td>25</td><td>2019-10-20 00:00:00</td><td>984872.55</td></tr>\n",
              "<tr><td>44</td><td>2019-11-03 00:00:00</td><td>197624.5455</td></tr>\n",
              "<tr><td>41</td><td>2019-12-01 00:00:00</td><td>342903.0392</td></tr>\n",
              "<tr><td>28</td><td>2019-11-24 00:00:00</td><td>765937.5</td></tr>\n",
              "<tr><td>25</td><td>2019-12-08 00:00:00</td><td>914292.7833</td></tr>\n",
              "<tr><td>28</td><td>2019-06-16 00:00:00</td><td>688221.2884</td></tr>\n",
              "</table>\n",
              "only showing top 20 rows\n"
            ]
          },
          "metadata": {},
          "execution_count": 45
        }
      ]
    },
    {
      "cell_type": "code",
      "source": [
        "store_part.explain()"
      ],
      "metadata": {
        "colab": {
          "base_uri": "https://localhost:8080/"
        },
        "id": "kx-hMXywmyjC",
        "outputId": "73648f6b-44cd-46bf-a2a4-6d709a795d9d"
      },
      "execution_count": 46,
      "outputs": [
        {
          "output_type": "stream",
          "name": "stdout",
          "text": [
            "== Physical Plan ==\n",
            "InMemoryTableScan [store_id#528L, ds#588, y#589]\n",
            "   +- InMemoryRelation [store_id#528L, ds#588, y#589], StorageLevel(disk, memory, deserialized, 1 replicas)\n",
            "         +- Exchange SinglePartition, REPARTITION_BY_NUM, [plan_id=655]\n",
            "            +- *(2) HashAggregate(keys=[store_id#528L, date#527], functions=[sum(sales#529)])\n",
            "               +- Exchange hashpartitioning(store_id#528L, date#527, 200), ENSURE_REQUIREMENTS, [plan_id=651]\n",
            "                  +- *(1) HashAggregate(keys=[store_id#528L, date#527], functions=[partial_sum(sales#529)])\n",
            "                     +- *(1) Scan ExistingRDD[date#527,store_id#528L,sales#529]\n",
            "\n",
            "\n"
          ]
        }
      ]
    },
    {
      "cell_type": "code",
      "source": [
        "from pyspark.sql.types import *\n",
        "\n",
        "result_schema =StructType([\n",
        "  StructField('ds',TimestampType()),\n",
        "  StructField('store_id',IntegerType()),\n",
        "  StructField('y',DoubleType()),\n",
        "  StructField('yhat',DoubleType()),\n",
        "  StructField('yhat_upper',DoubleType()),\n",
        "  StructField('yhat_lower',DoubleType())\n",
        "  ])"
      ],
      "metadata": {
        "id": "BhA7nEIXmymG"
      },
      "execution_count": 47,
      "outputs": []
    },
    {
      "cell_type": "markdown",
      "source": [
        "pandas API on Spark\n",
        "\n",
        "pandas API on Spark allows you to scale your pandas workload out. With this package, you can:\n",
        "\n",
        "Be immediately productive with Spark, with no learning curve, if you are already familiar with pandas.\n",
        "\n",
        "Have a single codebase that works both with pandas (tests, smaller datasets) and with Spark (distributed datasets).\n",
        "\n",
        "Switch to pandas API and PySpark API contexts easily without any overhead."
      ],
      "metadata": {
        "id": "TZD7Wd5ycMfn"
      }
    },
    {
      "cell_type": "code",
      "source": [
        "from pyspark.sql.functions import pandas_udf, PandasUDFType\n",
        "\n",
        "@pandas_udf( result_schema, PandasUDFType.GROUPED_MAP )\n",
        "def forecast_sales( store_pd ):\n",
        "\n",
        "  model = Prophet(interval_width=0.95,seasonality_mode = 'multiplicative', weekly_seasonality=True, yearly_seasonality=True) #IMP\n",
        "\n",
        "  model.fit( store_pd )\n",
        "\n",
        "  future_pd = model.make_future_dataframe(\n",
        "    periods=5, #prediction for 5 weeks\n",
        "    freq='w'\n",
        "    )\n",
        "  \n",
        "  forecast_pd = model.predict( future_pd )  \n",
        "  \n",
        "  f_pd = forecast_pd[ ['ds','yhat', 'yhat_upper', 'yhat_lower'] ].set_index('ds')\n",
        "  \n",
        "  st_pd = store_pd[['ds','store_id','y']].set_index('ds')\n",
        "  \n",
        "  results_pd = f_pd.join( st_pd, how='left' )\n",
        "  results_pd.reset_index(level=0, inplace=True)\n",
        "  \n",
        "  results_pd['store_id'] = store_pd['store_id'].iloc[0]\n",
        "\n",
        "  return results_pd[ ['ds', 'store_id','y', 'yhat', 'yhat_upper', 'yhat_lower'] ]  "
      ],
      "metadata": {
        "id": "zKgbzVPKmypE"
      },
      "execution_count": 48,
      "outputs": []
    },
    {
      "cell_type": "code",
      "source": [
        "from pyspark.sql.functions import current_date\n",
        "\n",
        "results = (\n",
        "  store_part\n",
        "    .groupBy('store_id')\n",
        "    .apply(forecast_sales)\n",
        "    .withColumn('training_date', current_date() )\n",
        "    )"
      ],
      "metadata": {
        "colab": {
          "base_uri": "https://localhost:8080/"
        },
        "id": "IoF90eAkmysK",
        "outputId": "7160ec50-ea20-4269-d035-7bc0d0579673"
      },
      "execution_count": 49,
      "outputs": [
        {
          "output_type": "stream",
          "name": "stderr",
          "text": [
            "/usr/local/lib/python3.8/dist-packages/pyspark/sql/pandas/group_ops.py:98: UserWarning: It is preferred to use 'applyInPandas' over this API. This API will be deprecated in the future releases. See SPARK-28264 for more details.\n",
            "  warnings.warn(\n"
          ]
        }
      ]
    },
    {
      "cell_type": "code",
      "source": [
        "results.cache()"
      ],
      "metadata": {
        "colab": {
          "base_uri": "https://localhost:8080/",
          "height": 520
        },
        "id": "7fZfZvJ-myvV",
        "outputId": "7b0d5594-1367-4072-f4b4-9328b1840cd0"
      },
      "execution_count": 50,
      "outputs": [
        {
          "output_type": "execute_result",
          "data": {
            "text/plain": [
              "+-------------------+--------+-----------+------------------+------------------+------------------+-------------+\n",
              "|                 ds|store_id|          y|              yhat|        yhat_upper|        yhat_lower|training_date|\n",
              "+-------------------+--------+-----------+------------------+------------------+------------------+-------------+\n",
              "|2019-01-06 00:00:00|      25|736657.2267|  712575.069403434| 950749.4244455871|466355.36879516416|   2022-12-26|\n",
              "|2019-01-13 00:00:00|      25|696457.1717| 743751.7568928566| 969415.3361852258| 510817.2331846287|   2022-12-26|\n",
              "|2019-01-20 00:00:00|      25| 996876.875| 972909.8778010785|1205970.9774899292| 749286.4554160853|   2022-12-26|\n",
              "|2019-01-27 00:00:00|      25| 1029737.05|1034447.5557582718| 1255526.305414752| 789369.6494821034|   2022-12-26|\n",
              "|2019-02-03 00:00:00|      25|1072873.705| 986365.7266742919|1208837.3705220001| 741571.2664466597|   2022-12-26|\n",
              "|2019-02-10 00:00:00|      25|880462.4681|1016291.0609313073|1258341.3988520568| 799613.1478660156|   2022-12-26|\n",
              "|2019-02-17 00:00:00|      25| 1088756.78|1108793.2648313895|1340143.7694132524| 884850.7554662762|   2022-12-26|\n",
              "|2019-02-24 00:00:00|      25|1266928.313|1099825.7781849583|1340481.3598056703| 865266.5613405266|   2022-12-26|\n",
              "|2019-03-03 00:00:00|      25|907510.1217| 954930.7385013084|1185304.3466998283| 716716.9482779222|   2022-12-26|\n",
              "|2019-03-10 00:00:00|      25|747920.9824| 840307.5564991491|1063546.1850535376| 611827.1834592692|   2022-12-26|\n",
              "|2019-03-17 00:00:00|      25|904750.3158| 895698.5219441095|1138802.5141854195| 662798.6206831385|   2022-12-26|\n",
              "|2019-03-24 00:00:00|      25|1069857.589|1040022.5385686738| 1275174.330101406| 801839.7530713571|   2022-12-26|\n",
              "|2019-03-31 00:00:00|      25|1195574.314|1078329.0328769775|1303658.5928665856| 841456.1750182239|   2022-12-26|\n",
              "|2019-04-07 00:00:00|      25|834911.3333| 957531.8584494952|1178297.0635567454|  725696.021267051|   2022-12-26|\n",
              "|2019-04-14 00:00:00|      25|788777.4167| 825594.4716836136|1057166.7026535557|   579306.44711781|   2022-12-26|\n",
              "|2019-04-21 00:00:00|      25|849603.4333| 826255.1077112332|1066428.6275615846| 586499.2094750508|   2022-12-26|\n",
              "|2019-04-28 00:00:00|      25| 965521.165| 913980.6218878272|1144780.3961141047| 681193.9767800682|   2022-12-26|\n",
              "|2019-05-05 00:00:00|      25|1045632.688| 931383.5223415782|1167667.5498355436| 701355.7552433453|   2022-12-26|\n",
              "|2019-05-12 00:00:00|      25| 587768.245|  831326.984993252|1065563.3189158072| 607415.3020788387|   2022-12-26|\n",
              "|2019-05-19 00:00:00|      25|806767.5946| 740232.6751845299| 975660.9118846869|518646.82716155954|   2022-12-26|\n",
              "+-------------------+--------+-----------+------------------+------------------+------------------+-------------+\n",
              "only showing top 20 rows"
            ],
            "text/html": [
              "<table border='1'>\n",
              "<tr><th>ds</th><th>store_id</th><th>y</th><th>yhat</th><th>yhat_upper</th><th>yhat_lower</th><th>training_date</th></tr>\n",
              "<tr><td>2019-01-06 00:00:00</td><td>25</td><td>736657.2267</td><td>712575.069403434</td><td>950749.4244455871</td><td>466355.36879516416</td><td>2022-12-26</td></tr>\n",
              "<tr><td>2019-01-13 00:00:00</td><td>25</td><td>696457.1717</td><td>743751.7568928566</td><td>969415.3361852258</td><td>510817.2331846287</td><td>2022-12-26</td></tr>\n",
              "<tr><td>2019-01-20 00:00:00</td><td>25</td><td>996876.875</td><td>972909.8778010785</td><td>1205970.9774899292</td><td>749286.4554160853</td><td>2022-12-26</td></tr>\n",
              "<tr><td>2019-01-27 00:00:00</td><td>25</td><td>1029737.05</td><td>1034447.5557582718</td><td>1255526.305414752</td><td>789369.6494821034</td><td>2022-12-26</td></tr>\n",
              "<tr><td>2019-02-03 00:00:00</td><td>25</td><td>1072873.705</td><td>986365.7266742919</td><td>1208837.3705220001</td><td>741571.2664466597</td><td>2022-12-26</td></tr>\n",
              "<tr><td>2019-02-10 00:00:00</td><td>25</td><td>880462.4681</td><td>1016291.0609313073</td><td>1258341.3988520568</td><td>799613.1478660156</td><td>2022-12-26</td></tr>\n",
              "<tr><td>2019-02-17 00:00:00</td><td>25</td><td>1088756.78</td><td>1108793.2648313895</td><td>1340143.7694132524</td><td>884850.7554662762</td><td>2022-12-26</td></tr>\n",
              "<tr><td>2019-02-24 00:00:00</td><td>25</td><td>1266928.313</td><td>1099825.7781849583</td><td>1340481.3598056703</td><td>865266.5613405266</td><td>2022-12-26</td></tr>\n",
              "<tr><td>2019-03-03 00:00:00</td><td>25</td><td>907510.1217</td><td>954930.7385013084</td><td>1185304.3466998283</td><td>716716.9482779222</td><td>2022-12-26</td></tr>\n",
              "<tr><td>2019-03-10 00:00:00</td><td>25</td><td>747920.9824</td><td>840307.5564991491</td><td>1063546.1850535376</td><td>611827.1834592692</td><td>2022-12-26</td></tr>\n",
              "<tr><td>2019-03-17 00:00:00</td><td>25</td><td>904750.3158</td><td>895698.5219441095</td><td>1138802.5141854195</td><td>662798.6206831385</td><td>2022-12-26</td></tr>\n",
              "<tr><td>2019-03-24 00:00:00</td><td>25</td><td>1069857.589</td><td>1040022.5385686738</td><td>1275174.330101406</td><td>801839.7530713571</td><td>2022-12-26</td></tr>\n",
              "<tr><td>2019-03-31 00:00:00</td><td>25</td><td>1195574.314</td><td>1078329.0328769775</td><td>1303658.5928665856</td><td>841456.1750182239</td><td>2022-12-26</td></tr>\n",
              "<tr><td>2019-04-07 00:00:00</td><td>25</td><td>834911.3333</td><td>957531.8584494952</td><td>1178297.0635567454</td><td>725696.021267051</td><td>2022-12-26</td></tr>\n",
              "<tr><td>2019-04-14 00:00:00</td><td>25</td><td>788777.4167</td><td>825594.4716836136</td><td>1057166.7026535557</td><td>579306.44711781</td><td>2022-12-26</td></tr>\n",
              "<tr><td>2019-04-21 00:00:00</td><td>25</td><td>849603.4333</td><td>826255.1077112332</td><td>1066428.6275615846</td><td>586499.2094750508</td><td>2022-12-26</td></tr>\n",
              "<tr><td>2019-04-28 00:00:00</td><td>25</td><td>965521.165</td><td>913980.6218878272</td><td>1144780.3961141047</td><td>681193.9767800682</td><td>2022-12-26</td></tr>\n",
              "<tr><td>2019-05-05 00:00:00</td><td>25</td><td>1045632.688</td><td>931383.5223415782</td><td>1167667.5498355436</td><td>701355.7552433453</td><td>2022-12-26</td></tr>\n",
              "<tr><td>2019-05-12 00:00:00</td><td>25</td><td>587768.245</td><td>831326.984993252</td><td>1065563.3189158072</td><td>607415.3020788387</td><td>2022-12-26</td></tr>\n",
              "<tr><td>2019-05-19 00:00:00</td><td>25</td><td>806767.5946</td><td>740232.6751845299</td><td>975660.9118846869</td><td>518646.82716155954</td><td>2022-12-26</td></tr>\n",
              "</table>\n",
              "only showing top 20 rows\n"
            ]
          },
          "metadata": {},
          "execution_count": 50
        }
      ]
    },
    {
      "cell_type": "code",
      "source": [
        "results.show()"
      ],
      "metadata": {
        "colab": {
          "base_uri": "https://localhost:8080/"
        },
        "id": "2WTChNF9myya",
        "outputId": "ccbec3a2-7cd2-45d3-ea0a-78b2c9a38fb9"
      },
      "execution_count": 51,
      "outputs": [
        {
          "output_type": "stream",
          "name": "stdout",
          "text": [
            "+-------------------+--------+-----------+------------------+------------------+------------------+-------------+\n",
            "|                 ds|store_id|          y|              yhat|        yhat_upper|        yhat_lower|training_date|\n",
            "+-------------------+--------+-----------+------------------+------------------+------------------+-------------+\n",
            "|2019-01-06 00:00:00|      25|736657.2267|  712575.069403434| 950749.4244455871|466355.36879516416|   2022-12-26|\n",
            "|2019-01-13 00:00:00|      25|696457.1717| 743751.7568928566| 969415.3361852258| 510817.2331846287|   2022-12-26|\n",
            "|2019-01-20 00:00:00|      25| 996876.875| 972909.8778010785|1205970.9774899292| 749286.4554160853|   2022-12-26|\n",
            "|2019-01-27 00:00:00|      25| 1029737.05|1034447.5557582718| 1255526.305414752| 789369.6494821034|   2022-12-26|\n",
            "|2019-02-03 00:00:00|      25|1072873.705| 986365.7266742919|1208837.3705220001| 741571.2664466597|   2022-12-26|\n",
            "|2019-02-10 00:00:00|      25|880462.4681|1016291.0609313073|1258341.3988520568| 799613.1478660156|   2022-12-26|\n",
            "|2019-02-17 00:00:00|      25| 1088756.78|1108793.2648313895|1340143.7694132524| 884850.7554662762|   2022-12-26|\n",
            "|2019-02-24 00:00:00|      25|1266928.313|1099825.7781849583|1340481.3598056703| 865266.5613405266|   2022-12-26|\n",
            "|2019-03-03 00:00:00|      25|907510.1217| 954930.7385013084|1185304.3466998283| 716716.9482779222|   2022-12-26|\n",
            "|2019-03-10 00:00:00|      25|747920.9824| 840307.5564991491|1063546.1850535376| 611827.1834592692|   2022-12-26|\n",
            "|2019-03-17 00:00:00|      25|904750.3158| 895698.5219441095|1138802.5141854195| 662798.6206831385|   2022-12-26|\n",
            "|2019-03-24 00:00:00|      25|1069857.589|1040022.5385686738| 1275174.330101406| 801839.7530713571|   2022-12-26|\n",
            "|2019-03-31 00:00:00|      25|1195574.314|1078329.0328769775|1303658.5928665856| 841456.1750182239|   2022-12-26|\n",
            "|2019-04-07 00:00:00|      25|834911.3333| 957531.8584494952|1178297.0635567454|  725696.021267051|   2022-12-26|\n",
            "|2019-04-14 00:00:00|      25|788777.4167| 825594.4716836136|1057166.7026535557|   579306.44711781|   2022-12-26|\n",
            "|2019-04-21 00:00:00|      25|849603.4333| 826255.1077112332|1066428.6275615846| 586499.2094750508|   2022-12-26|\n",
            "|2019-04-28 00:00:00|      25| 965521.165| 913980.6218878272|1144780.3961141047| 681193.9767800682|   2022-12-26|\n",
            "|2019-05-05 00:00:00|      25|1045632.688| 931383.5223415782|1167667.5498355436| 701355.7552433453|   2022-12-26|\n",
            "|2019-05-12 00:00:00|      25| 587768.245|  831326.984993252|1065563.3189158072| 607415.3020788387|   2022-12-26|\n",
            "|2019-05-19 00:00:00|      25|806767.5946| 740232.6751845299| 975660.9118846869|518646.82716155954|   2022-12-26|\n",
            "+-------------------+--------+-----------+------------------+------------------+------------------+-------------+\n",
            "only showing top 20 rows\n",
            "\n"
          ]
        }
      ]
    },
    {
      "cell_type": "code",
      "source": [
        "results.explain()"
      ],
      "metadata": {
        "colab": {
          "base_uri": "https://localhost:8080/"
        },
        "id": "K1HvB9rYpbIT",
        "outputId": "4c8655a1-46e7-446c-d90b-07d35c1d6f74"
      },
      "execution_count": 52,
      "outputs": [
        {
          "output_type": "stream",
          "name": "stdout",
          "text": [
            "== Physical Plan ==\n",
            "InMemoryTableScan [ds#809, store_id#810, y#811, yhat#812, yhat_upper#813, yhat_lower#814, training_date#821]\n",
            "   +- InMemoryRelation [ds#809, store_id#810, y#811, yhat#812, yhat_upper#813, yhat_lower#814, training_date#821], StorageLevel(disk, memory, deserialized, 1 replicas)\n",
            "         +- *(2) Project [ds#809, store_id#810, y#811, yhat#812, yhat_upper#813, yhat_lower#814, 2022-12-26 AS training_date#821]\n",
            "            +- FlatMapGroupsInPandas [store_id#528L], forecast_sales(store_id#528L, ds#588, y#589)#808, [ds#809, store_id#810, y#811, yhat#812, yhat_upper#813, yhat_lower#814]\n",
            "               +- *(1) Sort [store_id#528L ASC NULLS FIRST], false, 0\n",
            "                  +- InMemoryTableScan [store_id#528L, store_id#528L, ds#588, y#589]\n",
            "                        +- InMemoryRelation [store_id#528L, ds#588, y#589], StorageLevel(disk, memory, deserialized, 1 replicas)\n",
            "                              +- Exchange SinglePartition, REPARTITION_BY_NUM, [plan_id=655]\n",
            "                                 +- *(2) HashAggregate(keys=[store_id#528L, date#527], functions=[sum(sales#529)])\n",
            "                                    +- Exchange hashpartitioning(store_id#528L, date#527, 200), ENSURE_REQUIREMENTS, [plan_id=651]\n",
            "                                       +- *(1) HashAggregate(keys=[store_id#528L, date#527], functions=[partial_sum(sales#529)])\n",
            "                                          +- *(1) Scan ExistingRDD[date#527,store_id#528L,sales#529]\n",
            "\n",
            "\n"
          ]
        }
      ]
    },
    {
      "cell_type": "code",
      "source": [
        "results.coalesce(1)"
      ],
      "metadata": {
        "colab": {
          "base_uri": "https://localhost:8080/",
          "height": 520
        },
        "id": "Zm03IgoBpbLa",
        "outputId": "c8005bbd-4f38-42b5-cdd2-f08218cbaa8b"
      },
      "execution_count": 53,
      "outputs": [
        {
          "output_type": "execute_result",
          "data": {
            "text/plain": [
              "+-------------------+--------+-----------+------------------+------------------+------------------+-------------+\n",
              "|                 ds|store_id|          y|              yhat|        yhat_upper|        yhat_lower|training_date|\n",
              "+-------------------+--------+-----------+------------------+------------------+------------------+-------------+\n",
              "|2019-01-06 00:00:00|      25|736657.2267|  712575.069403434| 950749.4244455871|466355.36879516416|   2022-12-26|\n",
              "|2019-01-13 00:00:00|      25|696457.1717| 743751.7568928566| 969415.3361852258| 510817.2331846287|   2022-12-26|\n",
              "|2019-01-20 00:00:00|      25| 996876.875| 972909.8778010785|1205970.9774899292| 749286.4554160853|   2022-12-26|\n",
              "|2019-01-27 00:00:00|      25| 1029737.05|1034447.5557582718| 1255526.305414752| 789369.6494821034|   2022-12-26|\n",
              "|2019-02-03 00:00:00|      25|1072873.705| 986365.7266742919|1208837.3705220001| 741571.2664466597|   2022-12-26|\n",
              "|2019-02-10 00:00:00|      25|880462.4681|1016291.0609313073|1258341.3988520568| 799613.1478660156|   2022-12-26|\n",
              "|2019-02-17 00:00:00|      25| 1088756.78|1108793.2648313895|1340143.7694132524| 884850.7554662762|   2022-12-26|\n",
              "|2019-02-24 00:00:00|      25|1266928.313|1099825.7781849583|1340481.3598056703| 865266.5613405266|   2022-12-26|\n",
              "|2019-03-03 00:00:00|      25|907510.1217| 954930.7385013084|1185304.3466998283| 716716.9482779222|   2022-12-26|\n",
              "|2019-03-10 00:00:00|      25|747920.9824| 840307.5564991491|1063546.1850535376| 611827.1834592692|   2022-12-26|\n",
              "|2019-03-17 00:00:00|      25|904750.3158| 895698.5219441095|1138802.5141854195| 662798.6206831385|   2022-12-26|\n",
              "|2019-03-24 00:00:00|      25|1069857.589|1040022.5385686738| 1275174.330101406| 801839.7530713571|   2022-12-26|\n",
              "|2019-03-31 00:00:00|      25|1195574.314|1078329.0328769775|1303658.5928665856| 841456.1750182239|   2022-12-26|\n",
              "|2019-04-07 00:00:00|      25|834911.3333| 957531.8584494952|1178297.0635567454|  725696.021267051|   2022-12-26|\n",
              "|2019-04-14 00:00:00|      25|788777.4167| 825594.4716836136|1057166.7026535557|   579306.44711781|   2022-12-26|\n",
              "|2019-04-21 00:00:00|      25|849603.4333| 826255.1077112332|1066428.6275615846| 586499.2094750508|   2022-12-26|\n",
              "|2019-04-28 00:00:00|      25| 965521.165| 913980.6218878272|1144780.3961141047| 681193.9767800682|   2022-12-26|\n",
              "|2019-05-05 00:00:00|      25|1045632.688| 931383.5223415782|1167667.5498355436| 701355.7552433453|   2022-12-26|\n",
              "|2019-05-12 00:00:00|      25| 587768.245|  831326.984993252|1065563.3189158072| 607415.3020788387|   2022-12-26|\n",
              "|2019-05-19 00:00:00|      25|806767.5946| 740232.6751845299| 975660.9118846869|518646.82716155954|   2022-12-26|\n",
              "+-------------------+--------+-----------+------------------+------------------+------------------+-------------+\n",
              "only showing top 20 rows"
            ],
            "text/html": [
              "<table border='1'>\n",
              "<tr><th>ds</th><th>store_id</th><th>y</th><th>yhat</th><th>yhat_upper</th><th>yhat_lower</th><th>training_date</th></tr>\n",
              "<tr><td>2019-01-06 00:00:00</td><td>25</td><td>736657.2267</td><td>712575.069403434</td><td>950749.4244455871</td><td>466355.36879516416</td><td>2022-12-26</td></tr>\n",
              "<tr><td>2019-01-13 00:00:00</td><td>25</td><td>696457.1717</td><td>743751.7568928566</td><td>969415.3361852258</td><td>510817.2331846287</td><td>2022-12-26</td></tr>\n",
              "<tr><td>2019-01-20 00:00:00</td><td>25</td><td>996876.875</td><td>972909.8778010785</td><td>1205970.9774899292</td><td>749286.4554160853</td><td>2022-12-26</td></tr>\n",
              "<tr><td>2019-01-27 00:00:00</td><td>25</td><td>1029737.05</td><td>1034447.5557582718</td><td>1255526.305414752</td><td>789369.6494821034</td><td>2022-12-26</td></tr>\n",
              "<tr><td>2019-02-03 00:00:00</td><td>25</td><td>1072873.705</td><td>986365.7266742919</td><td>1208837.3705220001</td><td>741571.2664466597</td><td>2022-12-26</td></tr>\n",
              "<tr><td>2019-02-10 00:00:00</td><td>25</td><td>880462.4681</td><td>1016291.0609313073</td><td>1258341.3988520568</td><td>799613.1478660156</td><td>2022-12-26</td></tr>\n",
              "<tr><td>2019-02-17 00:00:00</td><td>25</td><td>1088756.78</td><td>1108793.2648313895</td><td>1340143.7694132524</td><td>884850.7554662762</td><td>2022-12-26</td></tr>\n",
              "<tr><td>2019-02-24 00:00:00</td><td>25</td><td>1266928.313</td><td>1099825.7781849583</td><td>1340481.3598056703</td><td>865266.5613405266</td><td>2022-12-26</td></tr>\n",
              "<tr><td>2019-03-03 00:00:00</td><td>25</td><td>907510.1217</td><td>954930.7385013084</td><td>1185304.3466998283</td><td>716716.9482779222</td><td>2022-12-26</td></tr>\n",
              "<tr><td>2019-03-10 00:00:00</td><td>25</td><td>747920.9824</td><td>840307.5564991491</td><td>1063546.1850535376</td><td>611827.1834592692</td><td>2022-12-26</td></tr>\n",
              "<tr><td>2019-03-17 00:00:00</td><td>25</td><td>904750.3158</td><td>895698.5219441095</td><td>1138802.5141854195</td><td>662798.6206831385</td><td>2022-12-26</td></tr>\n",
              "<tr><td>2019-03-24 00:00:00</td><td>25</td><td>1069857.589</td><td>1040022.5385686738</td><td>1275174.330101406</td><td>801839.7530713571</td><td>2022-12-26</td></tr>\n",
              "<tr><td>2019-03-31 00:00:00</td><td>25</td><td>1195574.314</td><td>1078329.0328769775</td><td>1303658.5928665856</td><td>841456.1750182239</td><td>2022-12-26</td></tr>\n",
              "<tr><td>2019-04-07 00:00:00</td><td>25</td><td>834911.3333</td><td>957531.8584494952</td><td>1178297.0635567454</td><td>725696.021267051</td><td>2022-12-26</td></tr>\n",
              "<tr><td>2019-04-14 00:00:00</td><td>25</td><td>788777.4167</td><td>825594.4716836136</td><td>1057166.7026535557</td><td>579306.44711781</td><td>2022-12-26</td></tr>\n",
              "<tr><td>2019-04-21 00:00:00</td><td>25</td><td>849603.4333</td><td>826255.1077112332</td><td>1066428.6275615846</td><td>586499.2094750508</td><td>2022-12-26</td></tr>\n",
              "<tr><td>2019-04-28 00:00:00</td><td>25</td><td>965521.165</td><td>913980.6218878272</td><td>1144780.3961141047</td><td>681193.9767800682</td><td>2022-12-26</td></tr>\n",
              "<tr><td>2019-05-05 00:00:00</td><td>25</td><td>1045632.688</td><td>931383.5223415782</td><td>1167667.5498355436</td><td>701355.7552433453</td><td>2022-12-26</td></tr>\n",
              "<tr><td>2019-05-12 00:00:00</td><td>25</td><td>587768.245</td><td>831326.984993252</td><td>1065563.3189158072</td><td>607415.3020788387</td><td>2022-12-26</td></tr>\n",
              "<tr><td>2019-05-19 00:00:00</td><td>25</td><td>806767.5946</td><td>740232.6751845299</td><td>975660.9118846869</td><td>518646.82716155954</td><td>2022-12-26</td></tr>\n",
              "</table>\n",
              "only showing top 20 rows\n"
            ]
          },
          "metadata": {},
          "execution_count": 53
        }
      ]
    },
    {
      "cell_type": "code",
      "source": [
        "results.count()"
      ],
      "metadata": {
        "colab": {
          "base_uri": "https://localhost:8080/"
        },
        "id": "slMh8_eFpbOQ",
        "outputId": "ba14f9ce-1e61-43de-cbf2-e8bb3b4bbae4"
      },
      "execution_count": 54,
      "outputs": [
        {
          "output_type": "execute_result",
          "data": {
            "text/plain": [
              "550"
            ]
          },
          "metadata": {},
          "execution_count": 54
        }
      ]
    },
    {
      "cell_type": "code",
      "source": [
        "results.createOrReplaceTempView('forecasted')"
      ],
      "metadata": {
        "id": "BR31EB91pbRF"
      },
      "execution_count": 55,
      "outputs": []
    },
    {
      "cell_type": "code",
      "source": [
        "spark.sql(\"select store_id, count(*) from forecasted group by store_id\").show()"
      ],
      "metadata": {
        "colab": {
          "base_uri": "https://localhost:8080/"
        },
        "id": "3Ct4CwRspbT0",
        "outputId": "623e32c5-7961-4deb-8f36-a305638fc39d"
      },
      "execution_count": 56,
      "outputs": [
        {
          "output_type": "stream",
          "name": "stdout",
          "text": [
            "+--------+--------+\n",
            "|store_id|count(1)|\n",
            "+--------+--------+\n",
            "|      25|      55|\n",
            "|      26|      55|\n",
            "|      28|      55|\n",
            "|      29|      55|\n",
            "|      30|      55|\n",
            "|      31|      55|\n",
            "|      35|      55|\n",
            "|      38|      55|\n",
            "|      41|      55|\n",
            "|      44|      55|\n",
            "+--------+--------+\n",
            "\n"
          ]
        }
      ]
    },
    {
      "cell_type": "code",
      "source": [
        "final_df = results.toPandas()"
      ],
      "metadata": {
        "id": "PXshgrzCpbWa"
      },
      "execution_count": 57,
      "outputs": []
    },
    {
      "cell_type": "code",
      "source": [
        "final_df"
      ],
      "metadata": {
        "colab": {
          "base_uri": "https://localhost:8080/",
          "height": 424
        },
        "id": "dxlBcdBBpbZD",
        "outputId": "0e047c46-1431-4d71-9700-cfa4ff74622b"
      },
      "execution_count": 58,
      "outputs": [
        {
          "output_type": "execute_result",
          "data": {
            "text/plain": [
              "            ds  store_id             y          yhat    yhat_upper  \\\n",
              "0   2019-01-06        25  7.366572e+05  7.125751e+05  9.507494e+05   \n",
              "1   2019-01-13        25  6.964572e+05  7.437518e+05  9.694153e+05   \n",
              "2   2019-01-20        25  9.968769e+05  9.729099e+05  1.205971e+06   \n",
              "3   2019-01-27        25  1.029737e+06  1.034448e+06  1.255526e+06   \n",
              "4   2019-02-03        25  1.072874e+06  9.863657e+05  1.208837e+06   \n",
              "..         ...       ...           ...           ...           ...   \n",
              "545 2019-12-22        44           NaN  6.265474e+04  1.240620e+05   \n",
              "546 2019-12-29        44           NaN  2.657442e+04  8.786328e+04   \n",
              "547 2020-01-05        44           NaN  8.801264e+03  7.412707e+04   \n",
              "548 2020-01-12        44           NaN  4.665900e+03  6.917689e+04   \n",
              "549 2020-01-19        44           NaN  2.708830e+03  7.084041e+04   \n",
              "\n",
              "        yhat_lower training_date  \n",
              "0    466355.368795    2022-12-26  \n",
              "1    510817.233185    2022-12-26  \n",
              "2    749286.455416    2022-12-26  \n",
              "3    789369.649482    2022-12-26  \n",
              "4    741571.266447    2022-12-26  \n",
              "..             ...           ...  \n",
              "545   -3739.967912    2022-12-26  \n",
              "546  -36197.882853    2022-12-26  \n",
              "547  -53051.136474    2022-12-26  \n",
              "548  -55759.120777    2022-12-26  \n",
              "549  -57866.853004    2022-12-26  \n",
              "\n",
              "[550 rows x 7 columns]"
            ],
            "text/html": [
              "\n",
              "  <div id=\"df-e63b7e52-cad0-4f2f-b271-2bffd875afaf\">\n",
              "    <div class=\"colab-df-container\">\n",
              "      <div>\n",
              "<style scoped>\n",
              "    .dataframe tbody tr th:only-of-type {\n",
              "        vertical-align: middle;\n",
              "    }\n",
              "\n",
              "    .dataframe tbody tr th {\n",
              "        vertical-align: top;\n",
              "    }\n",
              "\n",
              "    .dataframe thead th {\n",
              "        text-align: right;\n",
              "    }\n",
              "</style>\n",
              "<table border=\"1\" class=\"dataframe\">\n",
              "  <thead>\n",
              "    <tr style=\"text-align: right;\">\n",
              "      <th></th>\n",
              "      <th>ds</th>\n",
              "      <th>store_id</th>\n",
              "      <th>y</th>\n",
              "      <th>yhat</th>\n",
              "      <th>yhat_upper</th>\n",
              "      <th>yhat_lower</th>\n",
              "      <th>training_date</th>\n",
              "    </tr>\n",
              "  </thead>\n",
              "  <tbody>\n",
              "    <tr>\n",
              "      <th>0</th>\n",
              "      <td>2019-01-06</td>\n",
              "      <td>25</td>\n",
              "      <td>7.366572e+05</td>\n",
              "      <td>7.125751e+05</td>\n",
              "      <td>9.507494e+05</td>\n",
              "      <td>466355.368795</td>\n",
              "      <td>2022-12-26</td>\n",
              "    </tr>\n",
              "    <tr>\n",
              "      <th>1</th>\n",
              "      <td>2019-01-13</td>\n",
              "      <td>25</td>\n",
              "      <td>6.964572e+05</td>\n",
              "      <td>7.437518e+05</td>\n",
              "      <td>9.694153e+05</td>\n",
              "      <td>510817.233185</td>\n",
              "      <td>2022-12-26</td>\n",
              "    </tr>\n",
              "    <tr>\n",
              "      <th>2</th>\n",
              "      <td>2019-01-20</td>\n",
              "      <td>25</td>\n",
              "      <td>9.968769e+05</td>\n",
              "      <td>9.729099e+05</td>\n",
              "      <td>1.205971e+06</td>\n",
              "      <td>749286.455416</td>\n",
              "      <td>2022-12-26</td>\n",
              "    </tr>\n",
              "    <tr>\n",
              "      <th>3</th>\n",
              "      <td>2019-01-27</td>\n",
              "      <td>25</td>\n",
              "      <td>1.029737e+06</td>\n",
              "      <td>1.034448e+06</td>\n",
              "      <td>1.255526e+06</td>\n",
              "      <td>789369.649482</td>\n",
              "      <td>2022-12-26</td>\n",
              "    </tr>\n",
              "    <tr>\n",
              "      <th>4</th>\n",
              "      <td>2019-02-03</td>\n",
              "      <td>25</td>\n",
              "      <td>1.072874e+06</td>\n",
              "      <td>9.863657e+05</td>\n",
              "      <td>1.208837e+06</td>\n",
              "      <td>741571.266447</td>\n",
              "      <td>2022-12-26</td>\n",
              "    </tr>\n",
              "    <tr>\n",
              "      <th>...</th>\n",
              "      <td>...</td>\n",
              "      <td>...</td>\n",
              "      <td>...</td>\n",
              "      <td>...</td>\n",
              "      <td>...</td>\n",
              "      <td>...</td>\n",
              "      <td>...</td>\n",
              "    </tr>\n",
              "    <tr>\n",
              "      <th>545</th>\n",
              "      <td>2019-12-22</td>\n",
              "      <td>44</td>\n",
              "      <td>NaN</td>\n",
              "      <td>6.265474e+04</td>\n",
              "      <td>1.240620e+05</td>\n",
              "      <td>-3739.967912</td>\n",
              "      <td>2022-12-26</td>\n",
              "    </tr>\n",
              "    <tr>\n",
              "      <th>546</th>\n",
              "      <td>2019-12-29</td>\n",
              "      <td>44</td>\n",
              "      <td>NaN</td>\n",
              "      <td>2.657442e+04</td>\n",
              "      <td>8.786328e+04</td>\n",
              "      <td>-36197.882853</td>\n",
              "      <td>2022-12-26</td>\n",
              "    </tr>\n",
              "    <tr>\n",
              "      <th>547</th>\n",
              "      <td>2020-01-05</td>\n",
              "      <td>44</td>\n",
              "      <td>NaN</td>\n",
              "      <td>8.801264e+03</td>\n",
              "      <td>7.412707e+04</td>\n",
              "      <td>-53051.136474</td>\n",
              "      <td>2022-12-26</td>\n",
              "    </tr>\n",
              "    <tr>\n",
              "      <th>548</th>\n",
              "      <td>2020-01-12</td>\n",
              "      <td>44</td>\n",
              "      <td>NaN</td>\n",
              "      <td>4.665900e+03</td>\n",
              "      <td>6.917689e+04</td>\n",
              "      <td>-55759.120777</td>\n",
              "      <td>2022-12-26</td>\n",
              "    </tr>\n",
              "    <tr>\n",
              "      <th>549</th>\n",
              "      <td>2020-01-19</td>\n",
              "      <td>44</td>\n",
              "      <td>NaN</td>\n",
              "      <td>2.708830e+03</td>\n",
              "      <td>7.084041e+04</td>\n",
              "      <td>-57866.853004</td>\n",
              "      <td>2022-12-26</td>\n",
              "    </tr>\n",
              "  </tbody>\n",
              "</table>\n",
              "<p>550 rows × 7 columns</p>\n",
              "</div>\n",
              "      <button class=\"colab-df-convert\" onclick=\"convertToInteractive('df-e63b7e52-cad0-4f2f-b271-2bffd875afaf')\"\n",
              "              title=\"Convert this dataframe to an interactive table.\"\n",
              "              style=\"display:none;\">\n",
              "        \n",
              "  <svg xmlns=\"http://www.w3.org/2000/svg\" height=\"24px\"viewBox=\"0 0 24 24\"\n",
              "       width=\"24px\">\n",
              "    <path d=\"M0 0h24v24H0V0z\" fill=\"none\"/>\n",
              "    <path d=\"M18.56 5.44l.94 2.06.94-2.06 2.06-.94-2.06-.94-.94-2.06-.94 2.06-2.06.94zm-11 1L8.5 8.5l.94-2.06 2.06-.94-2.06-.94L8.5 2.5l-.94 2.06-2.06.94zm10 10l.94 2.06.94-2.06 2.06-.94-2.06-.94-.94-2.06-.94 2.06-2.06.94z\"/><path d=\"M17.41 7.96l-1.37-1.37c-.4-.4-.92-.59-1.43-.59-.52 0-1.04.2-1.43.59L10.3 9.45l-7.72 7.72c-.78.78-.78 2.05 0 2.83L4 21.41c.39.39.9.59 1.41.59.51 0 1.02-.2 1.41-.59l7.78-7.78 2.81-2.81c.8-.78.8-2.07 0-2.86zM5.41 20L4 18.59l7.72-7.72 1.47 1.35L5.41 20z\"/>\n",
              "  </svg>\n",
              "      </button>\n",
              "      \n",
              "  <style>\n",
              "    .colab-df-container {\n",
              "      display:flex;\n",
              "      flex-wrap:wrap;\n",
              "      gap: 12px;\n",
              "    }\n",
              "\n",
              "    .colab-df-convert {\n",
              "      background-color: #E8F0FE;\n",
              "      border: none;\n",
              "      border-radius: 50%;\n",
              "      cursor: pointer;\n",
              "      display: none;\n",
              "      fill: #1967D2;\n",
              "      height: 32px;\n",
              "      padding: 0 0 0 0;\n",
              "      width: 32px;\n",
              "    }\n",
              "\n",
              "    .colab-df-convert:hover {\n",
              "      background-color: #E2EBFA;\n",
              "      box-shadow: 0px 1px 2px rgba(60, 64, 67, 0.3), 0px 1px 3px 1px rgba(60, 64, 67, 0.15);\n",
              "      fill: #174EA6;\n",
              "    }\n",
              "\n",
              "    [theme=dark] .colab-df-convert {\n",
              "      background-color: #3B4455;\n",
              "      fill: #D2E3FC;\n",
              "    }\n",
              "\n",
              "    [theme=dark] .colab-df-convert:hover {\n",
              "      background-color: #434B5C;\n",
              "      box-shadow: 0px 1px 3px 1px rgba(0, 0, 0, 0.15);\n",
              "      filter: drop-shadow(0px 1px 2px rgba(0, 0, 0, 0.3));\n",
              "      fill: #FFFFFF;\n",
              "    }\n",
              "  </style>\n",
              "\n",
              "      <script>\n",
              "        const buttonEl =\n",
              "          document.querySelector('#df-e63b7e52-cad0-4f2f-b271-2bffd875afaf button.colab-df-convert');\n",
              "        buttonEl.style.display =\n",
              "          google.colab.kernel.accessAllowed ? 'block' : 'none';\n",
              "\n",
              "        async function convertToInteractive(key) {\n",
              "          const element = document.querySelector('#df-e63b7e52-cad0-4f2f-b271-2bffd875afaf');\n",
              "          const dataTable =\n",
              "            await google.colab.kernel.invokeFunction('convertToInteractive',\n",
              "                                                     [key], {});\n",
              "          if (!dataTable) return;\n",
              "\n",
              "          const docLinkHtml = 'Like what you see? Visit the ' +\n",
              "            '<a target=\"_blank\" href=https://colab.research.google.com/notebooks/data_table.ipynb>data table notebook</a>'\n",
              "            + ' to learn more about interactive tables.';\n",
              "          element.innerHTML = '';\n",
              "          dataTable['output_type'] = 'display_data';\n",
              "          await google.colab.output.renderOutput(dataTable, element);\n",
              "          const docLink = document.createElement('div');\n",
              "          docLink.innerHTML = docLinkHtml;\n",
              "          element.appendChild(docLink);\n",
              "        }\n",
              "      </script>\n",
              "    </div>\n",
              "  </div>\n",
              "  "
            ]
          },
          "metadata": {},
          "execution_count": 58
        }
      ]
    },
    {
      "cell_type": "code",
      "source": [
        "final_df=final_df.set_index('ds')"
      ],
      "metadata": {
        "id": "ySy8AfuZpbbn"
      },
      "execution_count": 59,
      "outputs": []
    },
    {
      "cell_type": "code",
      "source": [
        "final_df.query('store_id==44')[['y','yhat']].plot()"
      ],
      "metadata": {
        "colab": {
          "base_uri": "https://localhost:8080/",
          "height": 308
        },
        "id": "rRNQmpNYpbe2",
        "outputId": "ffbbdbaf-8d9d-4758-a950-e8ddab5cccd2"
      },
      "execution_count": 60,
      "outputs": [
        {
          "output_type": "execute_result",
          "data": {
            "text/plain": [
              "<matplotlib.axes._subplots.AxesSubplot at 0x7f41cd96c2b0>"
            ]
          },
          "metadata": {},
          "execution_count": 60
        },
        {
          "output_type": "display_data",
          "data": {
            "text/plain": [
              "<Figure size 432x288 with 1 Axes>"
            ],
            "image/png": "[encoded data removed]"
          },
          "metadata": {
            "needs_background": "light"
          }
        }
      ]
    },
    {
      "cell_type": "code",
      "source": [
        "final_df.query('store_id==26')[['y','yhat']].plot()"
      ],
      "metadata": {
        "colab": {
          "base_uri": "https://localhost:8080/",
          "height": 308
        },
        "id": "1x8JWT3TzRLI",
        "outputId": "24200664-6de8-4f0e-ebbc-c83352edafd0"
      },
      "execution_count": 61,
      "outputs": [
        {
          "output_type": "execute_result",
          "data": {
            "text/plain": [
              "<matplotlib.axes._subplots.AxesSubplot at 0x7f41cd378340>"
            ]
          },
          "metadata": {},
          "execution_count": 61
        },
        {
          "output_type": "display_data",
          "data": {
            "text/plain": [
              "<Figure size 432x288 with 1 Axes>"
            ],
            "image/png": "[encoded data removed]"
          },
          "metadata": {
            "needs_background": "light"
          }
        }
      ]
    },
    {
      "cell_type": "code",
      "source": [
        "final_df.query('store_id==31')[['y','yhat']].plot()"
      ],
      "metadata": {
        "colab": {
          "base_uri": "https://localhost:8080/",
          "height": 319
        },
        "id": "o4KfxqQFzROQ",
        "outputId": "bb2c730f-95bf-48a4-89c5-e60a5cf7c8f1"
      },
      "execution_count": 62,
      "outputs": [
        {
          "output_type": "execute_result",
          "data": {
            "text/plain": [
              "<matplotlib.axes._subplots.AxesSubplot at 0x7f41cd2e91f0>"
            ]
          },
          "metadata": {},
          "execution_count": 62
        },
        {
          "output_type": "display_data",
          "data": {
            "text/plain": [
              "<Figure size 432x288 with 1 Axes>"
            ],
            "image/png": "[encoded data removed]"
          },
          "metadata": {
            "needs_background": "light"
          }
        }
      ]
    },
    {
      "cell_type": "code",
      "source": [],
      "metadata": {
        "id": "Az3OXF8dzRXg"
      },
      "execution_count": 62,
      "outputs": []
    },
    {
      "cell_type": "code",
      "source": [],
      "metadata": {
        "id": "Kq8wpRRHzRas"
      },
      "execution_count": 62,
      "outputs": []
    },
    {
      "cell_type": "code",
      "source": [],
      "metadata": {
        "id": "8xC9vlXTzRdY"
      },
      "execution_count": 62,
      "outputs": []
    }
  ]
}